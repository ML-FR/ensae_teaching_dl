{
  "cells": [
    {
      "cell_type": "markdown",
      "metadata": {},
      "source": [
        "# 2A.dl - Deep learning avec Python\n",
        "\n",
        "Quelques librairies de deep learning sous Python."
      ]
    },
    {
      "cell_type": "code",
      "execution_count": 1,
      "metadata": {},
      "outputs": [
        {
          "data": {
            "text/html": [
              "<div id=\"my_id_menu_nb\">run previous cell, wait for 2 seconds</div>\n",
              "<script>\n",
              "function repeat_indent_string(n){\n",
              "    var a = \"\" ;\n",
              "    for ( ; n > 0 ; --n)\n",
              "        a += \"    \";\n",
              "    return a;\n",
              "}\n",
              "// look up into all sections and builds an automated menu //\n",
              "var update_menu_string = function(begin, lfirst, llast, sformat, send, keep_item, begin_format, end_format) {\n",
              "    var anchors = document.getElementsByClassName(\"section\");\n",
              "    if (anchors.length == 0) {\n",
              "        anchors = document.getElementsByClassName(\"text_cell_render rendered_html\");\n",
              "    }\n",
              "    var i,t;\n",
              "    var text_menu = begin;\n",
              "    var text_memo = \"<pre>\\nlength:\" + anchors.length + \"\\n\";\n",
              "    var ind = \"\";\n",
              "    var memo_level = 1;\n",
              "    var href;\n",
              "    var tags = [];\n",
              "    var main_item = 0;\n",
              "    var format_open = 0;\n",
              "    for (i = 0; i <= llast; i++)\n",
              "        tags.push(\"h\" + i);\n",
              "\n",
              "    for (i = 0; i < anchors.length; i++) {\n",
              "        text_memo += \"**\" + anchors[i].id + \"--\\n\";\n",
              "\n",
              "        var child = null;\n",
              "        for(t = 0; t < tags.length; t++) {\n",
              "            var r = anchors[i].getElementsByTagName(tags[t]);\n",
              "            if (r.length > 0) {\n",
              "child = r[0];\n",
              "break;\n",
              "            }\n",
              "        }\n",
              "        if (child == null) {\n",
              "            text_memo += \"null\\n\";\n",
              "            continue;\n",
              "        }\n",
              "        if (anchors[i].hasAttribute(\"id\")) {\n",
              "            // when converted in RST\n",
              "            href = anchors[i].id;\n",
              "            text_memo += \"#1-\" + href;\n",
              "            // passer \u00e0 child suivant (le chercher)\n",
              "        }\n",
              "        else if (child.hasAttribute(\"id\")) {\n",
              "            // in a notebook\n",
              "            href = child.id;\n",
              "            text_memo += \"#2-\" + href;\n",
              "        }\n",
              "        else {\n",
              "            text_memo += \"#3-\" + \"*\" + \"\\n\";\n",
              "            continue;\n",
              "        }\n",
              "        var title = child.textContent;\n",
              "        var level = parseInt(child.tagName.substring(1,2));\n",
              "\n",
              "        text_memo += \"--\" + level + \"?\" + lfirst + \"--\" + title + \"\\n\";\n",
              "\n",
              "        if ((level < lfirst) || (level > llast)) {\n",
              "            continue ;\n",
              "        }\n",
              "        if (title.endsWith('\u00b6')) {\n",
              "            title = title.substring(0,title.length-1).replace(\"<\", \"&lt;\")\n",
              "         .replace(\">\", \"&gt;\").replace(\"&\", \"&amp;\");\n",
              "        }\n",
              "        if (title.length == 0) {\n",
              "            continue;\n",
              "        }\n",
              "\n",
              "        while (level < memo_level) {\n",
              "            text_menu += end_format + \"</ul>\\n\";\n",
              "            format_open -= 1;\n",
              "            memo_level -= 1;\n",
              "        }\n",
              "        if (level == lfirst) {\n",
              "            main_item += 1;\n",
              "        }\n",
              "        if (keep_item != -1 && main_item != keep_item + 1) {\n",
              "            // alert(main_item + \" - \" + level + \" - \" + keep_item);\n",
              "            continue;\n",
              "        }\n",
              "        while (level > memo_level) {\n",
              "            text_menu += \"<ul>\\n\";\n",
              "            memo_level += 1;\n",
              "        }\n",
              "        text_menu += repeat_indent_string(level-2);\n",
              "        text_menu += begin_format + sformat.replace(\"__HREF__\", href).replace(\"__TITLE__\", title);\n",
              "        format_open += 1;\n",
              "    }\n",
              "    while (1 < memo_level) {\n",
              "        text_menu += end_format + \"</ul>\\n\";\n",
              "        memo_level -= 1;\n",
              "        format_open -= 1;\n",
              "    }\n",
              "    text_menu += send;\n",
              "    //text_menu += \"\\n\" + text_memo;\n",
              "\n",
              "    while (format_open > 0) {\n",
              "        text_menu += end_format;\n",
              "        format_open -= 1;\n",
              "    }\n",
              "    return text_menu;\n",
              "};\n",
              "var update_menu = function() {\n",
              "    var sbegin = \"\";\n",
              "    var sformat = '<a href=\"#__HREF__\">__TITLE__</a>';\n",
              "    var send = \"\";\n",
              "    var begin_format = '<li>';\n",
              "    var end_format = '</li>';\n",
              "    var keep_item = -1;\n",
              "    var text_menu = update_menu_string(sbegin, 2, 4, sformat, send, keep_item,\n",
              "       begin_format, end_format);\n",
              "    var menu = document.getElementById(\"my_id_menu_nb\");\n",
              "    menu.innerHTML=text_menu;\n",
              "};\n",
              "window.setTimeout(update_menu,2000);\n",
              "            </script>"
            ],
            "text/plain": [
              "<IPython.core.display.HTML object>"
            ]
          },
          "execution_count": 2,
          "metadata": {},
          "output_type": "execute_result"
        }
      ],
      "source": [
        "from jyquickhelper import add_notebook_menu\n",
        "add_notebook_menu()"
      ]
    },
    {
      "cell_type": "code",
      "execution_count": 2,
      "metadata": {
        "collapsed": true
      },
      "outputs": [],
      "source": [
        "%matplotlib inline\n",
        "import matplotlib.pyplot as plt"
      ]
    },
    {
      "cell_type": "markdown",
      "metadata": {
        "collapsed": true
      },
      "source": [
        "## theano\n",
        "\n",
        "[documentation](http://deeplearning.net/software/theano/index.html) [tutorial MNIST](http://deeplearning.net/tutorial/logreg.html) [tutorial Logisitic Regression](http://deeplearning.net/tutorial/logreg.html)\n",
        "\n",
        "Le module [theano](http://deeplearning.net/software/theano/) propose une API pour \u00e9crire des algorithmes num\u00e9riques utilisant le [GPU](https://en.wikipedia.org/wiki/Graphics_processing_unit). Il n'est pas sp\u00e9cialis\u00e9 dans le deep learning m\u00eame s'il propose de nombreuses fonctionnalit\u00e9s pour cela. Le module impl\u00e9mente ses propres container. Il faut voir [theano](http://deeplearning.net/software/theano/) comme une sorte de *numpy GPU*. Le module est \u00e9crit de telle sorte qu'il cherche \u00e0 optimiser la vitesse de calcul en transformant le code Python en C++ qui est ensuite compil\u00e9. Pour l'installation et notamment un compilateur C++, il faut le d\u00e9but de la partie relative au [deep learning](http://www.xavierdupre.fr/app/ensae_teaching_cs/helpsphinx3/td_2a_mlplus.html#deep-learning)."
      ]
    },
    {
      "cell_type": "markdown",
      "metadata": {},
      "source": [
        "Il faut chercher la fonction ``sgd_optimization_mnist`` dans l'aide de ce site pour trouver un exemple utilisant *theano* (le tutorial du cours). Il est recommand\u00e9 d'utiliser les autres librairies telles que [keras](https://keras.io/)...\n",
        "\n",
        "**L'\u00e9quipe qui le maintient a d\u00e9cid\u00e9 son support. Il devrait progressivement cesser de fonctionner en 2018.**"
      ]
    },
    {
      "cell_type": "markdown",
      "metadata": {},
      "source": [
        "## keras\n",
        "\n",
        "[documentation](https://keras.io/)\n",
        "\n",
        "La premi\u00e8re \u00e9tape consiste \u00e0 d\u00e9finir votre [backend](https://keras.io/backend/), c'est-\u00e0-dire la librairie de deep learning que vous souhaitez utiliser."
      ]
    },
    {
      "cell_type": "code",
      "execution_count": 3,
      "metadata": {},
      "outputs": [
        {
          "name": "stderr",
          "output_type": "stream",
          "text": [
            "Using TensorFlow backend.\n"
          ]
        }
      ],
      "source": [
        "from keras.datasets import mnist\n",
        "(X_train, y_train), (X_test, y_test) = mnist.load_data()"
      ]
    },
    {
      "cell_type": "code",
      "execution_count": 4,
      "metadata": {},
      "outputs": [
        {
          "data": {
            "text/plain": [
              "array([5, 0, 4, 1, 9], dtype=uint8)"
            ]
          },
          "execution_count": 5,
          "metadata": {},
          "output_type": "execute_result"
        }
      ],
      "source": [
        "y_train[:5]"
      ]
    },
    {
      "cell_type": "markdown",
      "metadata": {},
      "source": [
        "On s'inspire de l'exemple [mnist_cnn](https://github.com/fchollet/keras/blob/master/examples/mnist_cnn.py). Le [glossaire](http://www.wildml.com/deep-learning-glossary/) suivant vous aidera \u00e0 comprendre le code."
      ]
    },
    {
      "cell_type": "code",
      "execution_count": 5,
      "metadata": {
        "collapsed": true
      },
      "outputs": [],
      "source": [
        "from keras.datasets import mnist\n",
        "from keras.models import Sequential\n",
        "from keras.layers import Dense, Dropout, Activation, Flatten\n",
        "from keras.layers import Conv2D, MaxPooling2D\n",
        "from keras.utils import np_utils\n",
        "from keras import backend as K\n",
        "\n",
        "def keras_mnist_data():\n",
        "    # the data, shuffled and split between train and test sets\n",
        "    (X_train, y_train), (X_test, y_test) = mnist.load_data()\n",
        "    img_rows, img_cols = 28, 28    # should be cmputed from the data\n",
        "\n",
        "    if K.image_dim_ordering() == 'th':\n",
        "        X_train = X_train.reshape(X_train.shape[0], 1, img_rows, img_cols)\n",
        "        X_test = X_test.reshape(X_test.shape[0], 1, img_rows, img_cols)\n",
        "    else:\n",
        "        X_train = X_train.reshape(X_train.shape[0], img_rows, img_cols, 1)\n",
        "        X_test = X_test.reshape(X_test.shape[0], img_rows, img_cols, 1)\n",
        "\n",
        "    X_train = X_train.astype('float32')\n",
        "    X_test = X_test.astype('float32')\n",
        "    X_train /= 255\n",
        "    X_test /= 255\n",
        "\n",
        "    # convert class vectors to binary class matrices\n",
        "    nb_classes = len(set(y_train))\n",
        "    Y_train = np_utils.to_categorical(y_train, nb_classes)\n",
        "    Y_test = np_utils.to_categorical(y_test, nb_classes)\n",
        "\n",
        "    return (X_train, Y_train), (X_test, Y_test)\n",
        "\n",
        "(X_train, Y_train), (X_test, Y_test) = keras_mnist_data()"
      ]
    },
    {
      "cell_type": "code",
      "execution_count": 6,
      "metadata": {},
      "outputs": [
        {
          "name": "stdout",
          "output_type": "stream",
          "text": [
            "[keras_build_mnist_model] K.image_dim_ordering()=tf\n"
          ]
        },
        {
          "data": {
            "text/plain": [
              "<keras.models.Sequential at 0x21d2848dd68>"
            ]
          },
          "execution_count": 7,
          "metadata": {},
          "output_type": "execute_result"
        }
      ],
      "source": [
        "def keras_build_mnist_model(nb_classes):\n",
        "    model = Sequential()\n",
        "\n",
        "    nb_filters = 32\n",
        "    pool_size = (2, 2)\n",
        "    kernel_size = (3, 3)\n",
        "    img_rows, img_cols = 28, 28    # should be cmputed from the data\n",
        "\n",
        "    print(\"[keras_build_mnist_model] K.image_dim_ordering()={0}\".format(\n",
        "        K.image_dim_ordering()))\n",
        "    if K.image_dim_ordering() == 'th':\n",
        "        input_shape = (1, img_rows, img_cols)\n",
        "    else:\n",
        "        input_shape = (img_rows, img_cols, 1)\n",
        "\n",
        "    model.add(Conv2D(nb_filters, kernel_size, padding='valid', input_shape=input_shape))\n",
        "    model.add(Activation('relu'))\n",
        "    model.add(Conv2D(nb_filters, kernel_size))\n",
        "    model.add(Activation('relu'))\n",
        "    model.add(MaxPooling2D(pool_size=pool_size))\n",
        "    model.add(Dropout(0.25))\n",
        "\n",
        "    model.add(Flatten())\n",
        "    model.add(Dense(128))\n",
        "    model.add(Activation('relu'))\n",
        "    model.add(Dropout(0.5))\n",
        "    model.add(Dense(nb_classes))\n",
        "    model.add(Activation('softmax'))\n",
        "\n",
        "    model.compile(loss='categorical_crossentropy',\n",
        "                  optimizer='adadelta',\n",
        "                  metrics=['accuracy'])\n",
        "    return model\n",
        "\n",
        "model = keras_build_mnist_model(Y_train.shape[1])\n",
        "model"
      ]
    },
    {
      "cell_type": "markdown",
      "metadata": {},
      "source": [
        "L'\u00e9tape suivante peut \u00eatre tr\u00e8s longue. Il est recommand\u00e9 que le code soit compil\u00e9. Il faut changer ``nb_epoch`` \u00e0 12 pour obtenir une bonne performance."
      ]
    },
    {
      "cell_type": "code",
      "execution_count": 7,
      "metadata": {},
      "outputs": [
        {
          "name": "stdout",
          "output_type": "stream",
          "text": [
            "[keras_fit] nb_classes=10\n",
            "Train on 60000 samples, validate on 10000 samples\n",
            "Epoch 1/1\n",
            "60000/60000 [==============================] - 123s - loss: 0.3694 - acc: 0.8873 - val_loss: 0.0883 - val_acc: 0.9721\n"
          ]
        }
      ],
      "source": [
        "def keras_fit(model, X_train, Y_train, X_test, Y_test, batch_size=128,\n",
        "              nb_classes=None, epochs=12):\n",
        "    if nb_classes is None:\n",
        "        nb_classes = Y_train.shape[1]\n",
        "        print(\"[keras_fit] nb_classes=%d\" % nb_classes)\n",
        "    model.fit(X_train, Y_train, batch_size=batch_size, epochs=epochs,\n",
        "              verbose=1, validation_data=(X_test, Y_test))\n",
        "    \n",
        "keras_fit(model, X_train, Y_train, X_test, Y_test, batch_size=128,\n",
        "          nb_classes=None, epochs=1)    "
      ]
    },
    {
      "cell_type": "code",
      "execution_count": 8,
      "metadata": {},
      "outputs": [
        {
          "data": {
            "text/plain": [
              "[0.088284374502673749, 0.97209999999999996]"
            ]
          },
          "execution_count": 9,
          "metadata": {},
          "output_type": "execute_result"
        }
      ],
      "source": [
        "def keras_predict(model, X_test, Y_test):\n",
        "    return model.evaluate(X_test, Y_test, verbose=0)\n",
        "score = keras_predict(model, X_test, Y_test)\n",
        "score[:5]"
      ]
    },
    {
      "cell_type": "markdown",
      "metadata": {},
      "source": [
        "## tensorflow\n",
        "\n",
        "[tensorflow](https://www.tensorflow.org/)"
      ]
    },
    {
      "cell_type": "code",
      "execution_count": 9,
      "metadata": {
        "collapsed": true
      },
      "outputs": [],
      "source": []
    },
    {
      "cell_type": "markdown",
      "metadata": {},
      "source": [
        "## CNTK\n",
        "\n",
        "[CNTK](https://docs.microsoft.com/en-us/cognitive-toolkit/)"
      ]
    },
    {
      "cell_type": "code",
      "execution_count": 10,
      "metadata": {
        "collapsed": true
      },
      "outputs": [],
      "source": []
    },
    {
      "cell_type": "markdown",
      "metadata": {},
      "source": [
        "## pytorch\n",
        "\n",
        "[pytorch](https://pytorch.org/)"
      ]
    },
    {
      "cell_type": "markdown",
      "metadata": {},
      "source": [
        "## Comparatifs\n",
        "\n",
        "* [DL4J vs. Torch vs. Theano vs. Caffe vs. TensorFlow](https://deeplearning4j.org/compare-dl4j-torch7-pylearn)\n",
        "* [Evaluation of Deep Learning Toolkits](https://github.com/zer0n/deepframeworks/blob/master/README.md)\n",
        "* [Benchmarking CNTK on Keras: is it Better at Deep Learning than TensorFlow?](http://minimaxir.com/2017/06/keras-cntk/) (2017)"
      ]
    },
    {
      "cell_type": "markdown",
      "metadata": {
        "collapsed": true
      },
      "source": [
        "**END**"
      ]
    },
    {
      "cell_type": "code",
      "execution_count": 11,
      "metadata": {
        "collapsed": true
      },
      "outputs": [],
      "source": []
    }
  ],
  "metadata": {
    "kernelspec": {
      "display_name": "Python 3",
      "language": "python",
      "name": "python3"
    },
    "language_info": {
      "codemirror_mode": {
        "name": "ipython",
        "version": 3
      },
      "file_extension": ".py",
      "mimetype": "text/x-python",
      "name": "python",
      "nbconvert_exporter": "python",
      "pygments_lexer": "ipython3",
      "version": "3.6.5"
    }
  },
  "nbformat": 4,
  "nbformat_minor": 1
}