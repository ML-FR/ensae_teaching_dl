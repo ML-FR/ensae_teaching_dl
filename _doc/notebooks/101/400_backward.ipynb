{
  "cells": [
    {
      "cell_type": "markdown",
      "metadata": {},
      "source": [
        "# 400 - gradient et backward\n",
        "\n",
        "On peut avoir un r\u00e9seau de neurones comme un gros sandwitch avec de multiples couches de neurones dans lequel on a envie d'ins\u00e9rer sa propre couche mais pour cela il faut interf\u00e9rer avec le gradient. J'ai repris le tutoriel [pytorch: defining new autograd functions](https://pytorch.org/tutorials/beginner/examples_autograd/two_layer_net_custom_function.html). L'exemple suivant [Extending Torch](https://pytorch.org/docs/master/notes/extending.html). J'aimais bien l'API de la version 0.4 mais je ne la trouve plus sur internet. Elle laissait sans doute un peu trop de libert\u00e9."
      ]
    },
    {
      "cell_type": "code",
      "execution_count": 1,
      "metadata": {},
      "outputs": [
        {
          "name": "stdout",
          "output_type": "stream",
          "text": [
            "torch 1.5.0+cpu\n"
          ]
        }
      ],
      "source": [
        "import time\n",
        "import numpy as np\n",
        "import pandas as pd\n",
        "import torch\n",
        "import torch.nn as nn\n",
        "import torch.nn.functional as F\n",
        "import torch.optim as optim\n",
        "from torch.autograd import Variable\n",
        "print(\"torch\", torch.__version__)\n",
        "from torchvision import datasets, transforms\n",
        "from tqdm import tqdm"
      ]
    },
    {
      "cell_type": "code",
      "execution_count": 2,
      "metadata": {},
      "outputs": [],
      "source": [
        "%matplotlib inline"
      ]
    },
    {
      "cell_type": "code",
      "execution_count": 3,
      "metadata": {},
      "outputs": [],
      "source": [
        "BATCH_SIZE = 64\n",
        "TEST_BATCH_SIZE = 64\n",
        "DATA_DIR = 'data/'\n",
        "USE_CUDA = False  # switch to True if you have GPU\n",
        "N_EPOCHS = 2 # 5"
      ]
    },
    {
      "cell_type": "code",
      "execution_count": 4,
      "metadata": {},
      "outputs": [
        {
          "data": {
            "text/html": [
              "<div id=\"my_id_menu_nb\">run previous cell, wait for 2 seconds</div>\n",
              "<script>\n",
              "function repeat_indent_string(n){\n",
              "    var a = \"\" ;\n",
              "    for ( ; n > 0 ; --n)\n",
              "        a += \"    \";\n",
              "    return a;\n",
              "}\n",
              "// look up into all sections and builds an automated menu //\n",
              "var update_menu_string = function(begin, lfirst, llast, sformat, send, keep_item, begin_format, end_format) {\n",
              "    var anchors = document.getElementsByClassName(\"section\");\n",
              "    if (anchors.length == 0) {\n",
              "        anchors = document.getElementsByClassName(\"text_cell_render rendered_html\");\n",
              "    }\n",
              "    var i,t;\n",
              "    var text_menu = begin;\n",
              "    var text_memo = \"<pre>\\nlength:\" + anchors.length + \"\\n\";\n",
              "    var ind = \"\";\n",
              "    var memo_level = 1;\n",
              "    var href;\n",
              "    var tags = [];\n",
              "    var main_item = 0;\n",
              "    var format_open = 0;\n",
              "    for (i = 0; i <= llast; i++)\n",
              "        tags.push(\"h\" + i);\n",
              "\n",
              "    for (i = 0; i < anchors.length; i++) {\n",
              "        text_memo += \"**\" + anchors[i].id + \"--\\n\";\n",
              "\n",
              "        var child = null;\n",
              "        for(t = 0; t < tags.length; t++) {\n",
              "            var r = anchors[i].getElementsByTagName(tags[t]);\n",
              "            if (r.length > 0) {\n",
              "child = r[0];\n",
              "break;\n",
              "            }\n",
              "        }\n",
              "        if (child == null) {\n",
              "            text_memo += \"null\\n\";\n",
              "            continue;\n",
              "        }\n",
              "        if (anchors[i].hasAttribute(\"id\")) {\n",
              "            // when converted in RST\n",
              "            href = anchors[i].id;\n",
              "            text_memo += \"#1-\" + href;\n",
              "            // passer \u00e0 child suivant (le chercher)\n",
              "        }\n",
              "        else if (child.hasAttribute(\"id\")) {\n",
              "            // in a notebook\n",
              "            href = child.id;\n",
              "            text_memo += \"#2-\" + href;\n",
              "        }\n",
              "        else {\n",
              "            text_memo += \"#3-\" + \"*\" + \"\\n\";\n",
              "            continue;\n",
              "        }\n",
              "        var title = child.textContent;\n",
              "        var level = parseInt(child.tagName.substring(1,2));\n",
              "\n",
              "        text_memo += \"--\" + level + \"?\" + lfirst + \"--\" + title + \"\\n\";\n",
              "\n",
              "        if ((level < lfirst) || (level > llast)) {\n",
              "            continue ;\n",
              "        }\n",
              "        if (title.endsWith('\u00b6')) {\n",
              "            title = title.substring(0,title.length-1).replace(\"<\", \"&lt;\")\n",
              "         .replace(\">\", \"&gt;\").replace(\"&\", \"&amp;\");\n",
              "        }\n",
              "        if (title.length == 0) {\n",
              "            continue;\n",
              "        }\n",
              "\n",
              "        while (level < memo_level) {\n",
              "            text_menu += end_format + \"</ul>\\n\";\n",
              "            format_open -= 1;\n",
              "            memo_level -= 1;\n",
              "        }\n",
              "        if (level == lfirst) {\n",
              "            main_item += 1;\n",
              "        }\n",
              "        if (keep_item != -1 && main_item != keep_item + 1) {\n",
              "            // alert(main_item + \" - \" + level + \" - \" + keep_item);\n",
              "            continue;\n",
              "        }\n",
              "        while (level > memo_level) {\n",
              "            text_menu += \"<ul>\\n\";\n",
              "            memo_level += 1;\n",
              "        }\n",
              "        text_menu += repeat_indent_string(level-2);\n",
              "        text_menu += begin_format + sformat.replace(\"__HREF__\", href).replace(\"__TITLE__\", title);\n",
              "        format_open += 1;\n",
              "    }\n",
              "    while (1 < memo_level) {\n",
              "        text_menu += end_format + \"</ul>\\n\";\n",
              "        memo_level -= 1;\n",
              "        format_open -= 1;\n",
              "    }\n",
              "    text_menu += send;\n",
              "    //text_menu += \"\\n\" + text_memo;\n",
              "\n",
              "    while (format_open > 0) {\n",
              "        text_menu += end_format;\n",
              "        format_open -= 1;\n",
              "    }\n",
              "    return text_menu;\n",
              "};\n",
              "var update_menu = function() {\n",
              "    var sbegin = \"\";\n",
              "    var sformat = '<a href=\"#__HREF__\">__TITLE__</a>';\n",
              "    var send = \"\";\n",
              "    var begin_format = '<li>';\n",
              "    var end_format = '</li>';\n",
              "    var keep_item = -1;\n",
              "    var text_menu = update_menu_string(sbegin, 2, 4, sformat, send, keep_item,\n",
              "       begin_format, end_format);\n",
              "    var menu = document.getElementById(\"my_id_menu_nb\");\n",
              "    menu.innerHTML=text_menu;\n",
              "};\n",
              "window.setTimeout(update_menu,2000);\n",
              "            </script>"
            ],
            "text/plain": [
              "<IPython.core.display.HTML object>"
            ]
          },
          "execution_count": 5,
          "metadata": {},
          "output_type": "execute_result"
        }
      ],
      "source": [
        "from jyquickhelper import add_notebook_menu\n",
        "add_notebook_menu()"
      ]
    },
    {
      "cell_type": "markdown",
      "metadata": {},
      "source": [
        "## Couche personnalis\u00e9e"
      ]
    },
    {
      "cell_type": "markdown",
      "metadata": {},
      "source": [
        "L'exemple suivant illustre comment d\u00e9finir une couche interm\u00e9diaire qui ob\u00e9it \u00e0 ses propres r\u00e8gles. Elle doit impl\u00e9menter les deux m\u00e9thodes ``forward`` qui calcule la pr\u00e9diction pour la couche suivante et ``backward`` pour le calcul du gradient pour la couche pr\u00e9c\u00e9dente. Il reste la variable ``ctx`` qui permet de stocker des informations qui persistent jusqu'au calcul du gradient."
      ]
    },
    {
      "cell_type": "code",
      "execution_count": 5,
      "metadata": {},
      "outputs": [],
      "source": [
        "class MyReLU(torch.autograd.Function):\n",
        "\n",
        "    @staticmethod\n",
        "    def forward(ctx, input):\n",
        "        ctx.save_for_backward(input)\n",
        "        return input.clamp(min=0)\n",
        "\n",
        "    @staticmethod\n",
        "    def backward(ctx, grad_output):\n",
        "        input, = ctx.saved_tensors\n",
        "        grad_input = grad_output.clone()\n",
        "        grad_input[input < 0] = 0\n",
        "        return grad_input"
      ]
    },
    {
      "cell_type": "markdown",
      "metadata": {},
      "source": [
        "## exemple avec MNIST\n",
        "\n",
        "C'est \u00e0 ce moment que je choisis pour bifurque sur un autre tutoriel [pytorch et MNIST](https://pytorch.org/tutorials/beginner/blitz/neural_networks_tutorial.html) qui commence sur un r\u00e9seau de neurones pour *MNIST* et pas vraiment *MNIST* puisque c'est une r\u00e9gression avec deux sorties."
      ]
    },
    {
      "cell_type": "code",
      "execution_count": 6,
      "metadata": {},
      "outputs": [],
      "source": [
        "dtype = torch.float\n",
        "device = torch.device(\"cpu\")"
      ]
    },
    {
      "cell_type": "code",
      "execution_count": 7,
      "metadata": {},
      "outputs": [
        {
          "name": "stdout",
          "output_type": "stream",
          "text": [
            "Net(\n",
            "  (conv1): Conv2d(1, 6, kernel_size=(5, 5), stride=(1, 1))\n",
            "  (conv2): Conv2d(6, 16, kernel_size=(5, 5), stride=(1, 1))\n",
            "  (fc1): Linear(in_features=400, out_features=120, bias=True)\n",
            "  (fc2): Linear(in_features=120, out_features=84, bias=True)\n",
            "  (fc3): Linear(in_features=84, out_features=2, bias=True)\n",
            ")\n"
          ]
        }
      ],
      "source": [
        "import torch\n",
        "import torch.nn as nn\n",
        "import torch.nn.functional as F\n",
        "\n",
        "\n",
        "class Net(nn.Module):\n",
        "\n",
        "    def __init__(self):\n",
        "        super(Net, self).__init__()\n",
        "        self.conv1 = nn.Conv2d(1, 6, 5)\n",
        "        self.conv2 = nn.Conv2d(6, 16, 5)\n",
        "        self.fc1 = nn.Linear(16 * 5 * 5, 120)\n",
        "        self.fc2 = nn.Linear(120, 84)\n",
        "        self.fc3 = nn.Linear(84, 2)\n",
        "\n",
        "    def forward(self, x):\n",
        "        x = F.max_pool2d(F.relu(self.conv1(x)), (2, 2))\n",
        "        x = F.max_pool2d(F.relu(self.conv2(x)), 2)\n",
        "        x = x.view(-1, self.num_flat_features(x))\n",
        "        x = F.relu(self.fc1(x))\n",
        "        x = F.relu(self.fc2(x))\n",
        "        x = self.fc3(x)\n",
        "        return x\n",
        "\n",
        "    def num_flat_features(self, x):\n",
        "        size = x.size()[1:]  # all dimensions except the batch dimension\n",
        "        num_features = 1\n",
        "        for s in size:\n",
        "            num_features *= s\n",
        "        return num_features\n",
        "\n",
        "\n",
        "net = Net()\n",
        "print(net)"
      ]
    },
    {
      "cell_type": "markdown",
      "metadata": {},
      "source": [
        "## Le gradient"
      ]
    },
    {
      "cell_type": "markdown",
      "metadata": {},
      "source": [
        "On choisit une entr\u00e9e al\u00e9atoire mais aux m\u00eames dimensions qu'une image et on calcule la sortie du r\u00e9seau de neurones."
      ]
    },
    {
      "cell_type": "code",
      "execution_count": 8,
      "metadata": {},
      "outputs": [
        {
          "name": "stdout",
          "output_type": "stream",
          "text": [
            "tensor([[ 0.0984, -0.0259]], grad_fn=<AddmmBackward>)\n"
          ]
        }
      ],
      "source": [
        "input = torch.randn(1, 1, 32, 32)\n",
        "out = net(input)\n",
        "print(out)"
      ]
    },
    {
      "cell_type": "markdown",
      "metadata": {},
      "source": [
        "Pour calculer le gradient, il faut choisir une erreur... On prend le [MSELoss](https://pytorch.org/docs/stable/nn.html?highlight=mseloss#torch.nn.MSELoss) m\u00eame si \u00e7a n'a rien \u00e0 voir avec le probl\u00e8me initial mais on s'en fout."
      ]
    },
    {
      "cell_type": "code",
      "execution_count": 9,
      "metadata": {},
      "outputs": [],
      "source": [
        "criterion = nn.MSELoss()"
      ]
    },
    {
      "cell_type": "markdown",
      "metadata": {},
      "source": [
        "On choisit une entr\u00e9e al\u00e9atoire..."
      ]
    },
    {
      "cell_type": "code",
      "execution_count": 10,
      "metadata": {},
      "outputs": [],
      "source": [
        "target = torch.randn(2)"
      ]
    },
    {
      "cell_type": "markdown",
      "metadata": {},
      "source": [
        "On calcule une sortie et on redimensionne la cible de sorte qu'elle est la m\u00eame dimension que la cible."
      ]
    },
    {
      "cell_type": "code",
      "execution_count": 11,
      "metadata": {},
      "outputs": [
        {
          "data": {
            "text/plain": [
              "(tensor([[ 0.0984, -0.0259]], grad_fn=<AddmmBackward>),\n",
              " tensor([[1.0841, 0.6601]]))"
            ]
          },
          "execution_count": 12,
          "metadata": {},
          "output_type": "execute_result"
        }
      ],
      "source": [
        "output = net(input)\n",
        "target = target.view(1, -1)  # make it the same shape as output\n",
        "output, target"
      ]
    },
    {
      "cell_type": "markdown",
      "metadata": {},
      "source": [
        "Maintenantn on calcule l'erreur de pr\u00e9diction..."
      ]
    },
    {
      "cell_type": "code",
      "execution_count": 12,
      "metadata": {},
      "outputs": [
        {
          "data": {
            "text/plain": [
              "tensor(0.7211, grad_fn=<MseLossBackward>)"
            ]
          },
          "execution_count": 13,
          "metadata": {},
          "output_type": "execute_result"
        }
      ],
      "source": [
        "loss = criterion(output, target)\n",
        "loss"
      ]
    },
    {
      "cell_type": "markdown",
      "metadata": {},
      "source": [
        "Et on calcule enfin le gradient :"
      ]
    },
    {
      "cell_type": "code",
      "execution_count": 13,
      "metadata": {},
      "outputs": [],
      "source": [
        "loss.backward()"
      ]
    },
    {
      "cell_type": "markdown",
      "metadata": {},
      "source": [
        "Je m'attendais \u00e0 trouver le gradient sur la forme d'un beau vecteur mais comme c'est un r\u00e9seau de neurones, le gradient est stock\u00e9 dans chacune des couches sous la forme d'un gradient et encore en deux morceaux..."
      ]
    },
    {
      "cell_type": "code",
      "execution_count": 14,
      "metadata": {},
      "outputs": [
        {
          "data": {
            "text/plain": [
              "tensor([-0.0044, -0.0129, -0.0120, -0.0106,  0.0108, -0.0080])"
            ]
          },
          "execution_count": 15,
          "metadata": {},
          "output_type": "execute_result"
        }
      ],
      "source": [
        "net.conv1.bias.grad"
      ]
    },
    {
      "cell_type": "code",
      "execution_count": 15,
      "metadata": {},
      "outputs": [
        {
          "data": {
            "text/plain": [
              "tensor([[[[-1.2407e-02, -1.3151e-02,  1.9494e-03, -1.8397e-02, -8.1399e-03],\n",
              "          [ 2.2697e-02, -2.1370e-02,  1.3234e-02, -4.5362e-02, -4.7617e-03],\n",
              "          [-2.6007e-03, -3.2106e-02,  5.0279e-03,  1.6232e-02,  3.3929e-03],\n",
              "          [-1.4467e-03, -8.2939e-03, -8.2464e-03,  9.6412e-03, -5.6548e-03],\n",
              "          [-8.7655e-03, -1.0408e-02, -1.1384e-02, -8.2852e-03,  2.1430e-04]]],\n",
              "\n",
              "\n",
              "        [[[ 1.2725e-02,  1.3035e-05,  4.3161e-03,  2.4578e-02,  7.0311e-03],\n",
              "          [-2.5651e-02,  2.3921e-02,  5.6768e-03,  4.2782e-02,  9.0033e-03],\n",
              "          [-3.8339e-03, -2.1918e-02, -1.1344e-02, -1.2316e-04, -1.6823e-02],\n",
              "          [-4.8012e-03, -2.4580e-02, -1.2668e-02, -2.6195e-02, -4.0072e-04],\n",
              "          [-4.3689e-03, -2.3476e-02, -3.0547e-03,  1.9178e-02, -1.8830e-03]]],\n",
              "\n",
              "\n",
              "        [[[-6.5927e-03, -1.7511e-02,  4.2962e-03,  6.9383e-03,  3.4250e-02],\n",
              "          [ 1.6830e-02, -2.1891e-02,  1.6447e-02, -1.4255e-02,  2.5494e-02],\n",
              "          [ 3.2126e-02,  2.0147e-02,  2.1486e-03, -2.4806e-02,  1.7293e-02],\n",
              "          [-1.2384e-02,  1.4965e-03, -4.5062e-03,  2.2755e-02,  3.4465e-02],\n",
              "          [-1.5342e-02, -8.4329e-03,  1.2289e-02,  6.9204e-03,  2.8706e-03]]],\n",
              "\n",
              "\n",
              "        [[[ 4.3549e-03, -4.0362e-03,  2.5292e-02, -2.1750e-03, -1.9392e-03],\n",
              "          [ 1.3265e-02, -3.7641e-03, -1.4633e-02,  1.7212e-03,  4.6102e-03],\n",
              "          [-3.7710e-02, -4.1038e-03,  1.1128e-02, -2.0951e-03,  4.1262e-03],\n",
              "          [ 1.2689e-02,  1.7853e-02,  3.4458e-02,  2.0659e-02, -1.1101e-02],\n",
              "          [-9.8923e-03, -3.2189e-03,  4.4341e-02, -2.2615e-02,  1.1134e-03]]],\n",
              "\n",
              "\n",
              "        [[[ 2.5995e-02, -3.8009e-02,  3.6237e-02, -5.9109e-03, -3.5588e-02],\n",
              "          [ 8.6424e-03, -1.1644e-02, -3.4126e-03,  6.3851e-03,  4.1707e-03],\n",
              "          [ 5.8575e-03, -2.5871e-03,  8.4853e-04, -1.3423e-02, -9.6491e-03],\n",
              "          [ 9.7071e-03,  1.6865e-02, -1.7805e-02,  8.2747e-03,  3.0687e-02],\n",
              "          [ 1.7748e-02, -2.6293e-02, -3.7462e-02,  1.8656e-02,  3.5240e-02]]],\n",
              "\n",
              "\n",
              "        [[[ 2.6818e-02, -9.8710e-03, -1.0695e-02, -4.1982e-03,  2.6078e-02],\n",
              "          [ 3.7741e-02, -7.4138e-03, -1.7361e-02,  1.5816e-02, -2.2532e-02],\n",
              "          [-4.3165e-04, -8.4519e-03,  1.3581e-02, -2.4493e-02, -1.9400e-03],\n",
              "          [-5.5297e-04, -2.7260e-02, -3.1624e-02,  2.8114e-03,  3.4903e-02],\n",
              "          [ 1.8116e-02, -2.3265e-02, -9.1825e-03,  6.5738e-03,  3.7212e-03]]]])"
            ]
          },
          "execution_count": 16,
          "metadata": {},
          "output_type": "execute_result"
        }
      ],
      "source": [
        "net.conv1.weight.grad"
      ]
    },
    {
      "cell_type": "markdown",
      "metadata": {},
      "source": [
        "## On change de couche\n",
        "\n",
        "Non, il n'est pas trois heures du matin et personne ne pleure."
      ]
    },
    {
      "cell_type": "code",
      "execution_count": 16,
      "metadata": {},
      "outputs": [
        {
          "name": "stdout",
          "output_type": "stream",
          "text": [
            "Net0(\n",
            "  (conv1): Conv2d(1, 6, kernel_size=(5, 5), stride=(1, 1))\n",
            "  (conv2): Conv2d(6, 16, kernel_size=(5, 5), stride=(1, 1))\n",
            "  (fc1): Linear(in_features=400, out_features=120, bias=True)\n",
            "  (fc2): Linear(in_features=120, out_features=84, bias=True)\n",
            "  (fc3): Linear(in_features=84, out_features=2, bias=True)\n",
            ")\n"
          ]
        }
      ],
      "source": [
        "class Net0(nn.Module):\n",
        "\n",
        "    def __init__(self):\n",
        "        super(Net0, self).__init__()\n",
        "        self.conv1 = nn.Conv2d(1, 6, 5)\n",
        "        self.conv2 = nn.Conv2d(6, 16, 5)\n",
        "        self.fc1 = nn.Linear(16 * 5 * 5, 120)\n",
        "        self.fc2 = nn.Linear(120, 84)\n",
        "        self.fc3 = nn.Linear(84, 2)\n",
        "\n",
        "    def forward(self, x):\n",
        "        x = F.max_pool2d(F.relu(self.conv1(x)), (2, 2))\n",
        "        x = F.max_pool2d(F.relu(self.conv2(x)), 2)\n",
        "        x = x.view(-1, self.num_flat_features(x))\n",
        "        x = MyReLU(self.fc1(x))\n",
        "        x = MyReLU(self.fc2(x))\n",
        "        x = self.fc3(x)\n",
        "        return x\n",
        "\n",
        "    def num_flat_features(self, x):\n",
        "        size = x.size()[1:]  # all dimensions except the batch dimension\n",
        "        num_features = 1\n",
        "        for s in size:\n",
        "            num_features *= s\n",
        "        return num_features\n",
        "\n",
        "\n",
        "net0 = Net0()\n",
        "print(net0)"
      ]
    },
    {
      "cell_type": "markdown",
      "metadata": {},
      "source": [
        "Evidemment, \u00e7a ne marche jamais du premier coup. On a beaucoup sous-estim\u00e9 le temps de pr\u00e9paration des cours avec l'informatique. Il est seulement 9h du soir, l'humilit\u00e9 vient seulement apr\u00e8s minuit."
      ]
    },
    {
      "cell_type": "code",
      "execution_count": 17,
      "metadata": {
        "scrolled": false
      },
      "outputs": [
        {
          "name": "stdout",
          "output_type": "stream",
          "text": [
            "'MyReLU' object has no attribute 'dim'\n"
          ]
        }
      ],
      "source": [
        "try:\n",
        "    output = net0(input)\n",
        "except Exception as e:\n",
        "    print(e)"
      ]
    },
    {
      "cell_type": "markdown",
      "metadata": {},
      "source": [
        "J'avoue que j'ai tout lu en diagonal pensant que ma science infinie me permettrait de combler mon ignorance. Honn\u00eatement, il est temps de d\u00eener !"
      ]
    },
    {
      "cell_type": "markdown",
      "metadata": {},
      "source": [
        "## After the bug...\n",
        "\n",
        "J'ai craqu\u00e9, je n'ai pas eu le courage de recoder \u00e0 2h du matin trying to figure out what's going wrong. J'ai m\u00e9lang\u00e9 tout ce que j'ai pu trouv\u00e9 et il est quasiment 2h du matin le lendemain."
      ]
    },
    {
      "cell_type": "code",
      "execution_count": 18,
      "metadata": {},
      "outputs": [
        {
          "data": {
            "text/plain": [
              "tensor([[-0.0333,  0.0842]], grad_fn=<AddmmBackward>)"
            ]
          },
          "execution_count": 19,
          "metadata": {},
          "output_type": "execute_result"
        }
      ],
      "source": [
        "class MyReLUF(torch.autograd.Function):\n",
        "\n",
        "    @staticmethod\n",
        "    def forward(ctx, input):\n",
        "        ctx.save_for_backward(input)\n",
        "        res = input.clamp(min=0)\n",
        "        return res\n",
        "\n",
        "    @staticmethod\n",
        "    def backward(ctx, grad_output):\n",
        "        input, = ctx.saved_tensors\n",
        "        grad_input = grad_output.clone()\n",
        "        grad_input[input < 0] = 0\n",
        "        return grad_input\n",
        "\n",
        "    \n",
        "class MyReLUNN(nn.Module):\n",
        "\n",
        "    def __init__(self):\n",
        "        super(MyReLUNN, self).__init__()\n",
        "\n",
        "    def forward(self, input):\n",
        "        return MyReLUF.apply(input)\n",
        "\n",
        "    def extra_repr(self):\n",
        "        return 'in_features={}'.format(self.in_features)\n",
        "        \n",
        "\n",
        "class Net2(nn.Module):\n",
        "\n",
        "    def __init__(self):\n",
        "        super(Net2, self).__init__()\n",
        "        self.conv1 = nn.Conv2d(1, 6, 5)\n",
        "        self.conv2 = nn.Conv2d(6, 16, 5)\n",
        "        self.fc1 = nn.Linear(16 * 5 * 5, 120)\n",
        "        self.fc2 = nn.Linear(120, 84)\n",
        "        self.fc3 = nn.Linear(84, 2)\n",
        "        self.fct1 = MyReLUNN()\n",
        "        self.fct2 = MyReLUNN()\n",
        "\n",
        "    def forward(self, x):\n",
        "        x = F.max_pool2d(F.relu(self.conv1(x)), (2, 2))\n",
        "        x = F.max_pool2d(F.relu(self.conv2(x)), 2)\n",
        "        x = x.view(-1, self.num_flat_features(x))\n",
        "        x = self.fct1(self.fc1(x))\n",
        "        x = self.fct2(self.fc2(x))\n",
        "        x = self.fc3(x)\n",
        "        return x\n",
        "\n",
        "    def num_flat_features(self, x):\n",
        "        size = x.size()[1:]  # all dimensions except the batch dimension\n",
        "        num_features = 1\n",
        "        for s in size:\n",
        "            num_features *= s\n",
        "        return num_features\n",
        "\n",
        "    \n",
        "net2 = Net2()\n",
        "output = net2(input)\n",
        "output"
      ]
    },
    {
      "cell_type": "code",
      "execution_count": 19,
      "metadata": {},
      "outputs": [
        {
          "data": {
            "text/plain": [
              "(tensor([[-0.0333,  0.0842]], grad_fn=<AddmmBackward>),\n",
              " tensor([[1.0841, 0.6601]]))"
            ]
          },
          "execution_count": 20,
          "metadata": {},
          "output_type": "execute_result"
        }
      ],
      "source": [
        "target = target.view(1, -1)  # make it the same shape as output\n",
        "output, target"
      ]
    },
    {
      "cell_type": "code",
      "execution_count": 20,
      "metadata": {},
      "outputs": [
        {
          "data": {
            "text/plain": [
              "tensor(0.7901, grad_fn=<MseLossBackward>)"
            ]
          },
          "execution_count": 21,
          "metadata": {},
          "output_type": "execute_result"
        }
      ],
      "source": [
        "loss = criterion(output, target)\n",
        "loss"
      ]
    },
    {
      "cell_type": "code",
      "execution_count": 21,
      "metadata": {},
      "outputs": [],
      "source": [
        "loss.backward()"
      ]
    },
    {
      "cell_type": "code",
      "execution_count": 22,
      "metadata": {},
      "outputs": [
        {
          "data": {
            "text/plain": [
              "tensor([ 0.0256,  0.0139, -0.0511,  0.0475,  0.0105, -0.0168])"
            ]
          },
          "execution_count": 23,
          "metadata": {},
          "output_type": "execute_result"
        }
      ],
      "source": [
        "net2.conv1.bias.grad"
      ]
    },
    {
      "cell_type": "code",
      "execution_count": 23,
      "metadata": {},
      "outputs": [
        {
          "data": {
            "text/plain": [
              "tensor([[[[ 0.0500, -0.0042, -0.0153, -0.0117, -0.0175],\n",
              "          [-0.0224, -0.0135,  0.0331,  0.0448, -0.0135],\n",
              "          [-0.0042,  0.0086,  0.0201,  0.0037, -0.0064],\n",
              "          [ 0.0003, -0.0192,  0.0464,  0.0070,  0.0185],\n",
              "          [-0.0335, -0.0337, -0.0440,  0.0414,  0.0430]]],\n",
              "\n",
              "\n",
              "        [[[-0.0214, -0.0110,  0.0022,  0.0427, -0.0296],\n",
              "          [ 0.0081,  0.0167, -0.0360,  0.0032,  0.0301],\n",
              "          [ 0.0081,  0.0092, -0.0012, -0.0012, -0.0228],\n",
              "          [ 0.0122,  0.0110,  0.0293, -0.0106, -0.0213],\n",
              "          [ 0.0343,  0.0122,  0.0078, -0.0082, -0.0098]]],\n",
              "\n",
              "\n",
              "        [[[-0.0188,  0.0203,  0.0413,  0.0228, -0.0316],\n",
              "          [ 0.0266,  0.0005,  0.0027, -0.0052,  0.0008],\n",
              "          [-0.0393,  0.0069, -0.0042,  0.0063,  0.0075],\n",
              "          [-0.0143,  0.0155,  0.0342, -0.0302,  0.0274],\n",
              "          [-0.0002, -0.0492,  0.0197,  0.0126,  0.0019]]],\n",
              "\n",
              "\n",
              "        [[[-0.0056,  0.0119, -0.0113,  0.0035, -0.0430],\n",
              "          [-0.0060, -0.0344,  0.0002, -0.0130, -0.0086],\n",
              "          [-0.0223, -0.0265,  0.0163,  0.0041,  0.0155],\n",
              "          [ 0.0044,  0.0188, -0.0009, -0.0505, -0.0140],\n",
              "          [ 0.0070, -0.0174, -0.0054, -0.0245, -0.0113]]],\n",
              "\n",
              "\n",
              "        [[[ 0.0062, -0.0078,  0.0022, -0.0145,  0.0271],\n",
              "          [-0.0030, -0.0137, -0.0048,  0.0448,  0.0055],\n",
              "          [-0.0153, -0.0045,  0.0147, -0.0100,  0.0114],\n",
              "          [-0.0079, -0.0011, -0.0150, -0.0102, -0.0001],\n",
              "          [-0.0138,  0.0115, -0.0236, -0.0010,  0.0092]]],\n",
              "\n",
              "\n",
              "        [[[-0.0366,  0.0114, -0.0274, -0.0286,  0.0167],\n",
              "          [ 0.0094,  0.0126, -0.0124, -0.0069, -0.0165],\n",
              "          [-0.0034, -0.0061,  0.0168,  0.0144,  0.0080],\n",
              "          [ 0.0373, -0.0362, -0.0260, -0.0005, -0.0311],\n",
              "          [-0.0091,  0.0241,  0.0315, -0.0172,  0.0020]]]])"
            ]
          },
          "execution_count": 24,
          "metadata": {},
          "output_type": "execute_result"
        }
      ],
      "source": [
        "net2.conv1.weight.grad"
      ]
    },
    {
      "cell_type": "markdown",
      "metadata": {},
      "source": [
        "## Ca converge ?\n",
        "\n",
        "Il ne reste plus qu'\u00e0 voir si cela converge. On cr\u00e9e une cible un peu alambiqu\u00e9e."
      ]
    },
    {
      "cell_type": "code",
      "execution_count": 24,
      "metadata": {},
      "outputs": [],
      "source": [
        "N = 10000\n",
        "inputs = torch.randn(N, 1, 1, 32, 32)\n",
        "targets = torch.zeros(N, 2)\n",
        "for i in range(N):\n",
        "    s1 = inputs[i, :, :, :16, :].sum() / 10\n",
        "    s2 = inputs[i, :, :, 16:, :].sum() / 10\n",
        "    targets[i, 0] = s1\n",
        "    targets[i, 1] = s2"
      ]
    },
    {
      "cell_type": "code",
      "execution_count": 25,
      "metadata": {},
      "outputs": [
        {
          "data": {
            "text/plain": [
              "tensor([[ 0.1264, -1.6738],\n",
              "        [-0.7678,  4.4501],\n",
              "        [-0.3112, -1.8726],\n",
              "        [ 2.5569, -0.0294],\n",
              "        [-3.5128,  2.7586]])"
            ]
          },
          "execution_count": 26,
          "metadata": {},
          "output_type": "execute_result"
        }
      ],
      "source": [
        "targets[:5]"
      ]
    },
    {
      "cell_type": "code",
      "execution_count": 26,
      "metadata": {},
      "outputs": [
        {
          "data": {
            "text/plain": [
              "tensor([314.3907,   2.3097])"
            ]
          },
          "execution_count": 27,
          "metadata": {},
          "output_type": "execute_result"
        }
      ],
      "source": [
        "torch.sum(targets, 0)"
      ]
    },
    {
      "cell_type": "markdown",
      "metadata": {},
      "source": [
        "On choisit l'algorithme d'optimisation et la fonction de co\u00fbt. Rien d'original dans tout \u00e7a."
      ]
    },
    {
      "cell_type": "code",
      "execution_count": 27,
      "metadata": {},
      "outputs": [],
      "source": [
        "max_iter = 50"
      ]
    },
    {
      "cell_type": "code",
      "execution_count": 28,
      "metadata": {
        "scrolled": false
      },
      "outputs": [
        {
          "name": "stderr",
          "output_type": "stream",
          "text": [
            "  0%|          | 0/50 [00:00<?, ?it/s]c:\\python372_x64\\lib\\site-packages\\torch\\nn\\modules\\loss.py:432: UserWarning: Using a target size (torch.Size([2])) that is different to the input size (torch.Size([1, 2])). This will likely lead to incorrect results due to broadcasting. Please ensure they have the same size.\n",
            "  return F.mse_loss(input, target, reduction=self.reduction)\n",
            "100%|\u2588\u2588\u2588\u2588\u2588\u2588\u2588\u2588\u2588\u2588| 50/50 [02:59<00:00,  3.60s/it]\n"
          ]
        }
      ],
      "source": [
        "from tqdm import tqdm\n",
        "import random\n",
        "\n",
        "model = net2\n",
        "optimizer = torch.optim.SGD(model.parameters(), lr=0.0002)\n",
        "loss_func = torch.nn.MSELoss()\n",
        "\n",
        "average_loss = []\n",
        "\n",
        "for i in tqdm(range(max_iter)):\n",
        "    \n",
        "    ave_loss = 0\n",
        "    nb = 0\n",
        "    \n",
        "    optimizer.zero_grad()\n",
        "    for it in range(inputs.shape[0] // 10):\n",
        "        h = random.randint(0, inputs.shape[0] - 1)\n",
        "        x = inputs[h, :, :, :, :]\n",
        "        y = targets[h, :]\n",
        "        \n",
        "        preds = model(x)\n",
        "        loss = loss_func(preds, y)\n",
        "\n",
        "        loss.backward()\n",
        "        \n",
        "        ave_loss += loss\n",
        "        nb += 1\n",
        "        \n",
        "    optimizer.step()\n",
        "    ave_loss /= nb\n",
        "    average_loss.append((i, ave_loss))"
      ]
    },
    {
      "cell_type": "code",
      "execution_count": 29,
      "metadata": {},
      "outputs": [
        {
          "data": {
            "image/png": "[encoded data removed]",
            "text/plain": [
              "<Figure size 432x288 with 1 Axes>"
            ]
          },
          "metadata": {
            "needs_background": "light"
          },
          "output_type": "display_data"
        }
      ],
      "source": [
        "import matplotlib.pyplot as plt\n",
        "plt.plot([_[0] for _ in average_loss],\n",
        "         [_[1] for _ in average_loss])\n",
        "plt.title(\"Evolution de l'erreur\");"
      ]
    },
    {
      "cell_type": "markdown",
      "metadata": {},
      "source": [
        "## On r\u00e9essaye avec un r\u00e9seau plus simple"
      ]
    },
    {
      "cell_type": "code",
      "execution_count": 30,
      "metadata": {},
      "outputs": [
        {
          "data": {
            "text/plain": [
              "tensor([[0.]], grad_fn=<MyReLUFBackward>)"
            ]
          },
          "execution_count": 31,
          "metadata": {},
          "output_type": "execute_result"
        }
      ],
      "source": [
        "class MyReLUF(torch.autograd.Function):\n",
        "\n",
        "    @staticmethod\n",
        "    def forward(ctx, input):\n",
        "        ctx.save_for_backward(input)\n",
        "        res = input.clamp(min=0)\n",
        "        return res\n",
        "\n",
        "    @staticmethod\n",
        "    def backward(ctx, grad_output):\n",
        "        input, = ctx.saved_tensors\n",
        "        grad_input = grad_output.clone()\n",
        "        grad_input[input < 0] = 0\n",
        "        return grad_input\n",
        "\n",
        "    \n",
        "class MyReLUNN(nn.Module):\n",
        "\n",
        "    def __init__(self):\n",
        "        super(MyReLUNN, self).__init__()\n",
        "\n",
        "    def forward(self, input):\n",
        "        return MyReLUF.apply(input)\n",
        "\n",
        "    def extra_repr(self):\n",
        "        return 'in_features={}'.format(self.in_features)\n",
        "\n",
        "\n",
        "class Net11(nn.Module):\n",
        "\n",
        "    def __init__(self):\n",
        "        super(Net11, self).__init__()\n",
        "        self.lay1 = nn.Linear(1, 10)\n",
        "        self.fct1 = MyReLUNN()\n",
        "        self.lay2 = nn.Linear(10, 1)\n",
        "        self.fct2 = MyReLUNN()\n",
        "\n",
        "    def forward(self, x):\n",
        "        x = self.fct1(self.lay1(x))\n",
        "        x = self.fct2(self.lay2(x))\n",
        "        return x\n",
        "\n",
        "    \n",
        "net11 = Net11()\n",
        "input = torch.randn(1, 1)\n",
        "output = net11(input)\n",
        "output"
      ]
    },
    {
      "cell_type": "code",
      "execution_count": 31,
      "metadata": {},
      "outputs": [],
      "source": [
        "N = 500\n",
        "inputs = torch.randn(N, 1)\n",
        "rnd = torch.randn(N, 1)\n",
        "targets = torch.zeros(N, 1)\n",
        "for i in range(N):\n",
        "    y = abs(inputs[i, 0]) + rnd[i, 0] / 5\n",
        "    targets[i, 0] = y"
      ]
    },
    {
      "cell_type": "code",
      "execution_count": 32,
      "metadata": {},
      "outputs": [
        {
          "data": {
            "image/png": "[encoded data removed]",
            "text/plain": [
              "<Figure size 432x288 with 1 Axes>"
            ]
          },
          "metadata": {
            "needs_background": "light"
          },
          "output_type": "display_data"
        }
      ],
      "source": [
        "plt.plot(list(inputs[:, 0]), list(targets[:, 0]), '.')\n",
        "plt.title(\"Simple r\u00e9gression non lin\u00e9aire\");"
      ]
    },
    {
      "cell_type": "code",
      "execution_count": 33,
      "metadata": {},
      "outputs": [],
      "source": [
        "max_iter = 50"
      ]
    },
    {
      "cell_type": "code",
      "execution_count": 34,
      "metadata": {},
      "outputs": [
        {
          "name": "stderr",
          "output_type": "stream",
          "text": [
            "100%|\u2588\u2588\u2588\u2588\u2588\u2588\u2588\u2588\u2588\u2588| 50/50 [00:01<00:00, 27.32it/s]\n"
          ]
        }
      ],
      "source": [
        "model = net11\n",
        "optimizer = torch.optim.SGD(model.parameters(), lr=0.02)\n",
        "loss_func = torch.nn.MSELoss()\n",
        "\n",
        "average_loss = []\n",
        "\n",
        "for i in tqdm(range(max_iter)):\n",
        "    \n",
        "    ave_loss = 0\n",
        "    nb = 0\n",
        "    \n",
        "    for it in range(inputs.shape[0] // 10):\n",
        "        h = random.randint(0, inputs.shape[0] - 1)\n",
        "        x = inputs[h, :]\n",
        "        y = targets[h, :]\n",
        "        \n",
        "        preds = model(x)\n",
        "\n",
        "        loss = loss_func(preds, y)\n",
        "        \n",
        "        optimizer.zero_grad()\n",
        "        loss.backward()\n",
        "        optimizer.step()\n",
        "        \n",
        "        ave_loss += loss\n",
        "        nb += 1\n",
        "        \n",
        "    ave_loss /= nb\n",
        "    average_loss.append((i, ave_loss))"
      ]
    },
    {
      "cell_type": "code",
      "execution_count": 35,
      "metadata": {},
      "outputs": [
        {
          "data": {
            "image/png": "[encoded data removed]",
            "text/plain": [
              "<Figure size 432x288 with 1 Axes>"
            ]
          },
          "metadata": {
            "needs_background": "light"
          },
          "output_type": "display_data"
        }
      ],
      "source": [
        "import matplotlib.pyplot as plt\n",
        "plt.plot([_[0] for _ in average_loss],\n",
        "         [_[1] for _ in average_loss])\n",
        "plt.title(\"Evolution de l'erreur pour une r\u00e9gression\");"
      ]
    },
    {
      "cell_type": "code",
      "execution_count": 36,
      "metadata": {},
      "outputs": [],
      "source": [
        "predictions = model(inputs)"
      ]
    },
    {
      "cell_type": "code",
      "execution_count": 37,
      "metadata": {},
      "outputs": [
        {
          "data": {
            "image/png": "[encoded data removed]",
            "text/plain": [
              "<Figure size 864x288 with 2 Axes>"
            ]
          },
          "metadata": {
            "needs_background": "light"
          },
          "output_type": "display_data"
        }
      ],
      "source": [
        "fig, ax = plt.subplots(1, 2, figsize=(12, 4))\n",
        "ax[0].plot(list(inputs[:, 0]), list(targets[:, 0]), '.', label=\"output\")\n",
        "ax[0].plot(list(inputs[:, 0]), list(predictions[:, 0]), '.', label=\"pr\u00e9dictions\")\n",
        "ax[0].legend()\n",
        "ax[0].set_title(\"Simple r\u00e9gression non lin\u00e9aire\")\n",
        "ax[1].plot(list(targets[:, 0]), list(predictions[:, 0]), '.', label=\"Y/expected\")\n",
        "ax[1].set_xlabel(\"valeur attendue\")\n",
        "ax[1].set_ylabel(\"pr\u00e9dictions\")\n",
        "ax[1].plot([-0.2, 3], [-0.2, 3], '--', label=\"prefect\")\n",
        "ax[1].legend();"
      ]
    },
    {
      "cell_type": "markdown",
      "metadata": {},
      "source": [
        "Pas trop mal mais j'ai la flemme d'aller corriger ma premi\u00e8re exp\u00e9rience qui n'avait aucun sens de toute fa\u00e7on."
      ]
    },
    {
      "cell_type": "code",
      "execution_count": 38,
      "metadata": {},
      "outputs": [],
      "source": []
    },
    {
      "cell_type": "code",
      "execution_count": 39,
      "metadata": {},
      "outputs": [],
      "source": []
    }
  ],
  "metadata": {
    "kernelspec": {
      "display_name": "Python 3",
      "language": "python",
      "name": "python3"
    },
    "language_info": {
      "codemirror_mode": {
        "name": "ipython",
        "version": 3
      },
      "file_extension": ".py",
      "mimetype": "text/x-python",
      "name": "python",
      "nbconvert_exporter": "python",
      "pygments_lexer": "ipython3",
      "version": "3.7.2"
    }
  },
  "nbformat": 4,
  "nbformat_minor": 2
}