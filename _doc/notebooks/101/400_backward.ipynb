{
  "cells": [
    {
      "cell_type": "markdown",
      "metadata": {},
      "source": [
        "# 400 - gradient et backward\n",
        "\n",
        "On peut avoir un r\u00e9seau de neurones comme un gros sandwitch avec de multiples couches de neurones dans lequel on a envie d'ins\u00e9rer sa propre couche mais pour cela il faut interf\u00e9rer avec le gradient. J'ai repris le tutoriel [pytorch: defining new autograd functions](https://pytorch.org/tutorials/beginner/examples_autograd/two_layer_net_custom_function.html). L'exemple suivant [Extending Torch](https://pytorch.org/docs/master/notes/extending.html). J'aimais bien l'API de la version 0.4 mais je ne la trouve plus sur internet. Elle laissait sans doute un peu trop de libert\u00e9."
      ]
    },
    {
      "cell_type": "code",
      "execution_count": 1,
      "metadata": {},
      "outputs": [
        {
          "name": "stdout",
          "output_type": "stream",
          "text": [
            "torch 1.0.1\n"
          ]
        }
      ],
      "source": [
        "import time\n",
        "import numpy as np\n",
        "import pandas as pd\n",
        "import torch\n",
        "import torch.nn as nn\n",
        "import torch.nn.functional as F\n",
        "import torch.optim as optim\n",
        "from torch.autograd import Variable\n",
        "print(\"torch\", torch.__version__)\n",
        "from torchvision import datasets, transforms\n",
        "from tqdm import tqdm"
      ]
    },
    {
      "cell_type": "code",
      "execution_count": 2,
      "metadata": {},
      "outputs": [],
      "source": [
        "%matplotlib inline"
      ]
    },
    {
      "cell_type": "code",
      "execution_count": 3,
      "metadata": {},
      "outputs": [],
      "source": [
        "BATCH_SIZE = 64\n",
        "TEST_BATCH_SIZE = 64\n",
        "DATA_DIR = 'data/'\n",
        "USE_CUDA = False  # switch to True if you have GPU\n",
        "N_EPOCHS = 2 # 5"
      ]
    },
    {
      "cell_type": "code",
      "execution_count": 4,
      "metadata": {},
      "outputs": [
        {
          "data": {
            "text/html": [
              "<div id=\"my_id_menu_nb\">run previous cell, wait for 2 seconds</div>\n",
              "<script>\n",
              "function repeat_indent_string(n){\n",
              "    var a = \"\" ;\n",
              "    for ( ; n > 0 ; --n)\n",
              "        a += \"    \";\n",
              "    return a;\n",
              "}\n",
              "// look up into all sections and builds an automated menu //\n",
              "var update_menu_string = function(begin, lfirst, llast, sformat, send, keep_item, begin_format, end_format) {\n",
              "    var anchors = document.getElementsByClassName(\"section\");\n",
              "    if (anchors.length == 0) {\n",
              "        anchors = document.getElementsByClassName(\"text_cell_render rendered_html\");\n",
              "    }\n",
              "    var i,t;\n",
              "    var text_menu = begin;\n",
              "    var text_memo = \"<pre>\\nlength:\" + anchors.length + \"\\n\";\n",
              "    var ind = \"\";\n",
              "    var memo_level = 1;\n",
              "    var href;\n",
              "    var tags = [];\n",
              "    var main_item = 0;\n",
              "    var format_open = 0;\n",
              "    for (i = 0; i <= llast; i++)\n",
              "        tags.push(\"h\" + i);\n",
              "\n",
              "    for (i = 0; i < anchors.length; i++) {\n",
              "        text_memo += \"**\" + anchors[i].id + \"--\\n\";\n",
              "\n",
              "        var child = null;\n",
              "        for(t = 0; t < tags.length; t++) {\n",
              "            var r = anchors[i].getElementsByTagName(tags[t]);\n",
              "            if (r.length > 0) {\n",
              "child = r[0];\n",
              "break;\n",
              "            }\n",
              "        }\n",
              "        if (child == null) {\n",
              "            text_memo += \"null\\n\";\n",
              "            continue;\n",
              "        }\n",
              "        if (anchors[i].hasAttribute(\"id\")) {\n",
              "            // when converted in RST\n",
              "            href = anchors[i].id;\n",
              "            text_memo += \"#1-\" + href;\n",
              "            // passer \u00e0 child suivant (le chercher)\n",
              "        }\n",
              "        else if (child.hasAttribute(\"id\")) {\n",
              "            // in a notebook\n",
              "            href = child.id;\n",
              "            text_memo += \"#2-\" + href;\n",
              "        }\n",
              "        else {\n",
              "            text_memo += \"#3-\" + \"*\" + \"\\n\";\n",
              "            continue;\n",
              "        }\n",
              "        var title = child.textContent;\n",
              "        var level = parseInt(child.tagName.substring(1,2));\n",
              "\n",
              "        text_memo += \"--\" + level + \"?\" + lfirst + \"--\" + title + \"\\n\";\n",
              "\n",
              "        if ((level < lfirst) || (level > llast)) {\n",
              "            continue ;\n",
              "        }\n",
              "        if (title.endsWith('\u00b6')) {\n",
              "            title = title.substring(0,title.length-1).replace(\"<\", \"&lt;\")\n",
              "         .replace(\">\", \"&gt;\").replace(\"&\", \"&amp;\");\n",
              "        }\n",
              "        if (title.length == 0) {\n",
              "            continue;\n",
              "        }\n",
              "\n",
              "        while (level < memo_level) {\n",
              "            text_menu += end_format + \"</ul>\\n\";\n",
              "            format_open -= 1;\n",
              "            memo_level -= 1;\n",
              "        }\n",
              "        if (level == lfirst) {\n",
              "            main_item += 1;\n",
              "        }\n",
              "        if (keep_item != -1 && main_item != keep_item + 1) {\n",
              "            // alert(main_item + \" - \" + level + \" - \" + keep_item);\n",
              "            continue;\n",
              "        }\n",
              "        while (level > memo_level) {\n",
              "            text_menu += \"<ul>\\n\";\n",
              "            memo_level += 1;\n",
              "        }\n",
              "        text_menu += repeat_indent_string(level-2);\n",
              "        text_menu += begin_format + sformat.replace(\"__HREF__\", href).replace(\"__TITLE__\", title);\n",
              "        format_open += 1;\n",
              "    }\n",
              "    while (1 < memo_level) {\n",
              "        text_menu += end_format + \"</ul>\\n\";\n",
              "        memo_level -= 1;\n",
              "        format_open -= 1;\n",
              "    }\n",
              "    text_menu += send;\n",
              "    //text_menu += \"\\n\" + text_memo;\n",
              "\n",
              "    while (format_open > 0) {\n",
              "        text_menu += end_format;\n",
              "        format_open -= 1;\n",
              "    }\n",
              "    return text_menu;\n",
              "};\n",
              "var update_menu = function() {\n",
              "    var sbegin = \"\";\n",
              "    var sformat = '<a href=\"#__HREF__\">__TITLE__</a>';\n",
              "    var send = \"\";\n",
              "    var begin_format = '<li>';\n",
              "    var end_format = '</li>';\n",
              "    var keep_item = -1;\n",
              "    var text_menu = update_menu_string(sbegin, 2, 4, sformat, send, keep_item,\n",
              "       begin_format, end_format);\n",
              "    var menu = document.getElementById(\"my_id_menu_nb\");\n",
              "    menu.innerHTML=text_menu;\n",
              "};\n",
              "window.setTimeout(update_menu,2000);\n",
              "            </script>"
            ],
            "text/plain": [
              "<IPython.core.display.HTML object>"
            ]
          },
          "execution_count": 5,
          "metadata": {},
          "output_type": "execute_result"
        }
      ],
      "source": [
        "from jyquickhelper import add_notebook_menu\n",
        "add_notebook_menu()"
      ]
    },
    {
      "cell_type": "markdown",
      "metadata": {},
      "source": [
        "## Couche personnalis\u00e9e"
      ]
    },
    {
      "cell_type": "markdown",
      "metadata": {},
      "source": [
        "L'exemple suivant illustre comment d\u00e9finir une couche interm\u00e9diaire qui ob\u00e9it \u00e0 ses propres r\u00e8gles. Elle doit impl\u00e9menter les deux m\u00e9thodes ``forward`` qui calcule la pr\u00e9diction pour la couche suivante et ``backward`` pour le calcul du gradient pour la couche pr\u00e9c\u00e9dente. Il reste la variable ``ctx`` qui permet de stocker des informations qui persistent jusqu'au calcul du gradient."
      ]
    },
    {
      "cell_type": "code",
      "execution_count": 5,
      "metadata": {},
      "outputs": [],
      "source": [
        "class MyReLU(torch.autograd.Function):\n",
        "\n",
        "    @staticmethod\n",
        "    def forward(ctx, input):\n",
        "        ctx.save_for_backward(input)\n",
        "        return input.clamp(min=0)\n",
        "\n",
        "    @staticmethod\n",
        "    def backward(ctx, grad_output):\n",
        "        input, = ctx.saved_tensors\n",
        "        grad_input = grad_output.clone()\n",
        "        grad_input[input < 0] = 0\n",
        "        return grad_input"
      ]
    },
    {
      "cell_type": "markdown",
      "metadata": {},
      "source": [
        "## exemple avec MNIST\n",
        "\n",
        "C'est \u00e0 ce moment que je choisis pour bifurque sur un autre tutoriel [pytorch et MNIST](https://pytorch.org/tutorials/beginner/blitz/neural_networks_tutorial.html) qui commence sur un r\u00e9seau de neurones pour *MNIST* et pas vraiment *MNIST* puisque c'est une r\u00e9gression avec deux sorties."
      ]
    },
    {
      "cell_type": "code",
      "execution_count": 6,
      "metadata": {},
      "outputs": [],
      "source": [
        "dtype = torch.float\n",
        "device = torch.device(\"cpu\")"
      ]
    },
    {
      "cell_type": "code",
      "execution_count": 7,
      "metadata": {},
      "outputs": [
        {
          "name": "stdout",
          "output_type": "stream",
          "text": [
            "Net(\n",
            "  (conv1): Conv2d(1, 6, kernel_size=(5, 5), stride=(1, 1))\n",
            "  (conv2): Conv2d(6, 16, kernel_size=(5, 5), stride=(1, 1))\n",
            "  (fc1): Linear(in_features=400, out_features=120, bias=True)\n",
            "  (fc2): Linear(in_features=120, out_features=84, bias=True)\n",
            "  (fc3): Linear(in_features=84, out_features=2, bias=True)\n",
            ")\n"
          ]
        }
      ],
      "source": [
        "import torch\n",
        "import torch.nn as nn\n",
        "import torch.nn.functional as F\n",
        "\n",
        "\n",
        "class Net(nn.Module):\n",
        "\n",
        "    def __init__(self):\n",
        "        super(Net, self).__init__()\n",
        "        self.conv1 = nn.Conv2d(1, 6, 5)\n",
        "        self.conv2 = nn.Conv2d(6, 16, 5)\n",
        "        self.fc1 = nn.Linear(16 * 5 * 5, 120)\n",
        "        self.fc2 = nn.Linear(120, 84)\n",
        "        self.fc3 = nn.Linear(84, 2)\n",
        "\n",
        "    def forward(self, x):\n",
        "        x = F.max_pool2d(F.relu(self.conv1(x)), (2, 2))\n",
        "        x = F.max_pool2d(F.relu(self.conv2(x)), 2)\n",
        "        x = x.view(-1, self.num_flat_features(x))\n",
        "        x = F.relu(self.fc1(x))\n",
        "        x = F.relu(self.fc2(x))\n",
        "        x = self.fc3(x)\n",
        "        return x\n",
        "\n",
        "    def num_flat_features(self, x):\n",
        "        size = x.size()[1:]  # all dimensions except the batch dimension\n",
        "        num_features = 1\n",
        "        for s in size:\n",
        "            num_features *= s\n",
        "        return num_features\n",
        "\n",
        "\n",
        "net = Net()\n",
        "print(net)"
      ]
    },
    {
      "cell_type": "markdown",
      "metadata": {},
      "source": [
        "## Le gradient"
      ]
    },
    {
      "cell_type": "markdown",
      "metadata": {},
      "source": [
        "On choisit une entr\u00e9e al\u00e9atoire mais aux m\u00eames dimensions qu'une image et on calcule la sortie du r\u00e9seau de neurones."
      ]
    },
    {
      "cell_type": "code",
      "execution_count": 8,
      "metadata": {},
      "outputs": [
        {
          "name": "stdout",
          "output_type": "stream",
          "text": [
            "tensor([[0.0787, 0.0109]], grad_fn=<AddmmBackward>)\n"
          ]
        }
      ],
      "source": [
        "input = torch.randn(1, 1, 32, 32)\n",
        "out = net(input)\n",
        "print(out)"
      ]
    },
    {
      "cell_type": "markdown",
      "metadata": {},
      "source": [
        "Pour calculer le gradient, il faut choisir une erreur... On prend le [MSELoss](https://pytorch.org/docs/stable/nn.html?highlight=mseloss#torch.nn.MSELoss) m\u00eame si \u00e7a n'a rien \u00e0 voir avec le probl\u00e8me initial mais on s'en fout."
      ]
    },
    {
      "cell_type": "code",
      "execution_count": 9,
      "metadata": {},
      "outputs": [],
      "source": [
        "criterion = nn.MSELoss()"
      ]
    },
    {
      "cell_type": "markdown",
      "metadata": {},
      "source": [
        "On choisit une entr\u00e9e al\u00e9atoire..."
      ]
    },
    {
      "cell_type": "code",
      "execution_count": 10,
      "metadata": {},
      "outputs": [],
      "source": [
        "target = torch.randn(2)"
      ]
    },
    {
      "cell_type": "markdown",
      "metadata": {},
      "source": [
        "On calcule une sortie et on redimensionne la cible de sorte qu'elle est la m\u00eame dimension que la cible."
      ]
    },
    {
      "cell_type": "code",
      "execution_count": 11,
      "metadata": {},
      "outputs": [
        {
          "data": {
            "text/plain": [
              "(tensor([[0.0787, 0.0109]], grad_fn=<AddmmBackward>),\n",
              " tensor([[1.3361, 1.0640]]))"
            ]
          },
          "execution_count": 12,
          "metadata": {},
          "output_type": "execute_result"
        }
      ],
      "source": [
        "output = net(input)\n",
        "target = target.view(1, -1)  # make it the same shape as output\n",
        "output, target"
      ]
    },
    {
      "cell_type": "markdown",
      "metadata": {},
      "source": [
        "Maintenantn on calcule l'erreur de pr\u00e9diction..."
      ]
    },
    {
      "cell_type": "code",
      "execution_count": 12,
      "metadata": {},
      "outputs": [
        {
          "data": {
            "text/plain": [
              "tensor(1.3450, grad_fn=<MseLossBackward>)"
            ]
          },
          "execution_count": 13,
          "metadata": {},
          "output_type": "execute_result"
        }
      ],
      "source": [
        "loss = criterion(output, target)\n",
        "loss"
      ]
    },
    {
      "cell_type": "markdown",
      "metadata": {},
      "source": [
        "Et on calcule enfin le gradient :"
      ]
    },
    {
      "cell_type": "code",
      "execution_count": 13,
      "metadata": {},
      "outputs": [],
      "source": [
        "loss.backward()"
      ]
    },
    {
      "cell_type": "markdown",
      "metadata": {},
      "source": [
        "Je m'attendais \u00e0 trouver le gradient sur la forme d'un beau vecteur mais comme c'est un r\u00e9seau de neurones, le gradient est stock\u00e9 dans chacune des couches sous la forme d'un gradient et encore en deux morceaux..."
      ]
    },
    {
      "cell_type": "code",
      "execution_count": 14,
      "metadata": {},
      "outputs": [
        {
          "data": {
            "text/plain": [
              "tensor([ 0.0066, -0.0196, -0.0231,  0.0315, -0.0020,  0.0007])"
            ]
          },
          "execution_count": 15,
          "metadata": {},
          "output_type": "execute_result"
        }
      ],
      "source": [
        "net.conv1.bias.grad"
      ]
    },
    {
      "cell_type": "code",
      "execution_count": 15,
      "metadata": {},
      "outputs": [
        {
          "data": {
            "text/plain": [
              "tensor([[[[ 0.0095, -0.0006, -0.0392, -0.0126, -0.0041],\n",
              "          [-0.0260, -0.0403,  0.0386, -0.0262, -0.0227],\n",
              "          [-0.0101, -0.0084,  0.0014, -0.0033, -0.0176],\n",
              "          [ 0.0076, -0.0314, -0.0006,  0.0549, -0.0369],\n",
              "          [-0.0123, -0.0026,  0.0023,  0.0166, -0.0260]]],\n",
              "\n",
              "\n",
              "        [[[-0.0343, -0.0081,  0.0352, -0.0274, -0.0183],\n",
              "          [ 0.0027,  0.0479,  0.0394,  0.0434, -0.0248],\n",
              "          [-0.0264, -0.0139, -0.0534,  0.0244,  0.0021],\n",
              "          [-0.0420,  0.0307, -0.0228,  0.0034, -0.0165],\n",
              "          [ 0.0122,  0.0110, -0.0444, -0.0334,  0.0263]]],\n",
              "\n",
              "\n",
              "        [[[-0.0141, -0.0519,  0.0308,  0.0218,  0.0136],\n",
              "          [-0.0326, -0.0011, -0.0127,  0.0012,  0.0404],\n",
              "          [ 0.0048,  0.0255,  0.0245, -0.0290,  0.0161],\n",
              "          [-0.0439,  0.0103, -0.0124, -0.0019,  0.0125],\n",
              "          [ 0.0062, -0.0022,  0.0098,  0.0100, -0.0239]]],\n",
              "\n",
              "\n",
              "        [[[ 0.0036,  0.0205,  0.0100,  0.0446, -0.0065],\n",
              "          [-0.0005, -0.0240,  0.0255,  0.0428, -0.0164],\n",
              "          [-0.0390,  0.0051, -0.0146, -0.0207, -0.0128],\n",
              "          [ 0.0149, -0.0335,  0.0113, -0.0419,  0.0194],\n",
              "          [ 0.0340,  0.0012,  0.0077,  0.0139,  0.0094]]],\n",
              "\n",
              "\n",
              "        [[[-0.0006,  0.0576, -0.0205, -0.0135, -0.0211],\n",
              "          [ 0.0473, -0.0356, -0.0008,  0.0509,  0.0177],\n",
              "          [-0.0379,  0.0028, -0.0957,  0.0103, -0.0321],\n",
              "          [ 0.0330, -0.0052, -0.0310, -0.0163,  0.0300],\n",
              "          [ 0.0083,  0.0363, -0.0530, -0.0329, -0.0161]]],\n",
              "\n",
              "\n",
              "        [[[-0.0011,  0.0126, -0.0046,  0.0036, -0.0216],\n",
              "          [ 0.0463, -0.0098, -0.0165, -0.0041, -0.0167],\n",
              "          [ 0.0184, -0.0177,  0.0207,  0.0011,  0.0127],\n",
              "          [-0.0255,  0.0196, -0.0007, -0.0137,  0.0134],\n",
              "          [-0.0054, -0.0150, -0.0369,  0.0163,  0.0170]]]])"
            ]
          },
          "execution_count": 16,
          "metadata": {},
          "output_type": "execute_result"
        }
      ],
      "source": [
        "net.conv1.weight.grad"
      ]
    },
    {
      "cell_type": "markdown",
      "metadata": {},
      "source": [
        "## On change de couche\n",
        "\n",
        "Non, il n'est pas trois heures du matin et personne ne pleure."
      ]
    },
    {
      "cell_type": "code",
      "execution_count": 16,
      "metadata": {},
      "outputs": [
        {
          "name": "stdout",
          "output_type": "stream",
          "text": [
            "Net0(\n",
            "  (conv1): Conv2d(1, 6, kernel_size=(5, 5), stride=(1, 1))\n",
            "  (conv2): Conv2d(6, 16, kernel_size=(5, 5), stride=(1, 1))\n",
            "  (fc1): Linear(in_features=400, out_features=120, bias=True)\n",
            "  (fc2): Linear(in_features=120, out_features=84, bias=True)\n",
            "  (fc3): Linear(in_features=84, out_features=2, bias=True)\n",
            ")\n"
          ]
        }
      ],
      "source": [
        "class Net0(nn.Module):\n",
        "\n",
        "    def __init__(self):\n",
        "        super(Net0, self).__init__()\n",
        "        self.conv1 = nn.Conv2d(1, 6, 5)\n",
        "        self.conv2 = nn.Conv2d(6, 16, 5)\n",
        "        self.fc1 = nn.Linear(16 * 5 * 5, 120)\n",
        "        self.fc2 = nn.Linear(120, 84)\n",
        "        self.fc3 = nn.Linear(84, 2)\n",
        "\n",
        "    def forward(self, x):\n",
        "        x = F.max_pool2d(F.relu(self.conv1(x)), (2, 2))\n",
        "        x = F.max_pool2d(F.relu(self.conv2(x)), 2)\n",
        "        x = x.view(-1, self.num_flat_features(x))\n",
        "        x = MyReLU(self.fc1(x))\n",
        "        x = MyReLU(self.fc2(x))\n",
        "        x = self.fc3(x)\n",
        "        return x\n",
        "\n",
        "    def num_flat_features(self, x):\n",
        "        size = x.size()[1:]  # all dimensions except the batch dimension\n",
        "        num_features = 1\n",
        "        for s in size:\n",
        "            num_features *= s\n",
        "        return num_features\n",
        "\n",
        "\n",
        "net0 = Net0()\n",
        "print(net0)"
      ]
    },
    {
      "cell_type": "markdown",
      "metadata": {},
      "source": [
        "Evidemment, \u00e7a ne marche jamais du premier coup. On a beaucoup sous-estim\u00e9 le temps de pr\u00e9paration des cours avec l'informatique. Il est seulement 9h du soir, l'humilit\u00e9 vient seulement apr\u00e8s minuit."
      ]
    },
    {
      "cell_type": "code",
      "execution_count": 17,
      "metadata": {
        "scrolled": false
      },
      "outputs": [
        {
          "name": "stdout",
          "output_type": "stream",
          "text": [
            "'MyReLU' object has no attribute 'dim'\n"
          ]
        }
      ],
      "source": [
        "try:\n",
        "    output = net0(input)\n",
        "except Exception as e:\n",
        "    print(e)"
      ]
    },
    {
      "cell_type": "markdown",
      "metadata": {},
      "source": [
        "J'avoue que j'ai tout lu en diagonal pensant que ma science infinie me permettrait de combler mon ignorance. Honn\u00eatement, il est temps de d\u00eener !"
      ]
    },
    {
      "cell_type": "markdown",
      "metadata": {},
      "source": [
        "## After the bug...\n",
        "\n",
        "J'ai craqu\u00e9, je n'ai pas eu le courage de recoder \u00e0 2h du matin trying to figure out what's going wrong. J'ai m\u00e9lang\u00e9 tout ce que j'ai pu trouv\u00e9 et il est quasiment 2h du matin le lendemain."
      ]
    },
    {
      "cell_type": "code",
      "execution_count": 18,
      "metadata": {},
      "outputs": [
        {
          "data": {
            "text/plain": [
              "tensor([[-0.0018, -0.0584]], grad_fn=<AddmmBackward>)"
            ]
          },
          "execution_count": 19,
          "metadata": {},
          "output_type": "execute_result"
        }
      ],
      "source": [
        "class MyReLUF(torch.autograd.Function):\n",
        "\n",
        "    def forward(self, input):\n",
        "        self.input = input\n",
        "        res = input.clamp(min=0)\n",
        "        return res\n",
        "\n",
        "    def backward(self, grad_output):\n",
        "        input = self.input\n",
        "        grad_input = grad_output.clone()\n",
        "        grad_input[input < 0] = 0\n",
        "        return grad_input\n",
        "\n",
        "    \n",
        "class MyReLUNN(nn.Module):\n",
        "\n",
        "    def __init__(self):\n",
        "        super(MyReLUNN, self).__init__()\n",
        "        self.fct = MyReLUF()\n",
        "\n",
        "    def forward(self, input):\n",
        "        return self.fct(input)\n",
        "\n",
        "    def extra_repr(self):\n",
        "        return 'in_features={}'.format(self.in_features)\n",
        "        \n",
        "\n",
        "class Net2(nn.Module):\n",
        "\n",
        "    def __init__(self):\n",
        "        super(Net2, self).__init__()\n",
        "        self.conv1 = nn.Conv2d(1, 6, 5)\n",
        "        self.conv2 = nn.Conv2d(6, 16, 5)\n",
        "        self.fc1 = nn.Linear(16 * 5 * 5, 120)\n",
        "        self.fc2 = nn.Linear(120, 84)\n",
        "        self.fc3 = nn.Linear(84, 2)\n",
        "        self.fct1 = MyReLUNN()\n",
        "        self.fct2 = MyReLUNN()\n",
        "\n",
        "    def forward(self, x):\n",
        "        x = F.max_pool2d(F.relu(self.conv1(x)), (2, 2))\n",
        "        x = F.max_pool2d(F.relu(self.conv2(x)), 2)\n",
        "        x = x.view(-1, self.num_flat_features(x))\n",
        "        x = self.fct1(self.fc1(x))\n",
        "        x = self.fct2(self.fc2(x))\n",
        "        x = self.fc3(x)\n",
        "        return x\n",
        "\n",
        "    def num_flat_features(self, x):\n",
        "        size = x.size()[1:]  # all dimensions except the batch dimension\n",
        "        num_features = 1\n",
        "        for s in size:\n",
        "            num_features *= s\n",
        "        return num_features\n",
        "\n",
        "    \n",
        "net2 = Net2()\n",
        "output = net2(input)\n",
        "output"
      ]
    },
    {
      "cell_type": "code",
      "execution_count": 19,
      "metadata": {},
      "outputs": [
        {
          "data": {
            "text/plain": [
              "(tensor([[-0.0018, -0.0584]], grad_fn=<AddmmBackward>),\n",
              " tensor([[1.3361, 1.0640]]))"
            ]
          },
          "execution_count": 20,
          "metadata": {},
          "output_type": "execute_result"
        }
      ],
      "source": [
        "target = target.view(1, -1)  # make it the same shape as output\n",
        "output, target"
      ]
    },
    {
      "cell_type": "code",
      "execution_count": 20,
      "metadata": {},
      "outputs": [
        {
          "data": {
            "text/plain": [
              "tensor(1.5248, grad_fn=<MseLossBackward>)"
            ]
          },
          "execution_count": 21,
          "metadata": {},
          "output_type": "execute_result"
        }
      ],
      "source": [
        "loss = criterion(output, target)\n",
        "loss"
      ]
    },
    {
      "cell_type": "code",
      "execution_count": 21,
      "metadata": {},
      "outputs": [],
      "source": [
        "loss.backward()"
      ]
    },
    {
      "cell_type": "code",
      "execution_count": 22,
      "metadata": {},
      "outputs": [
        {
          "data": {
            "text/plain": [
              "tensor([ 0.0058,  0.0213,  0.0070,  0.0215, -0.0197,  0.0576])"
            ]
          },
          "execution_count": 23,
          "metadata": {},
          "output_type": "execute_result"
        }
      ],
      "source": [
        "net2.conv1.bias.grad"
      ]
    },
    {
      "cell_type": "code",
      "execution_count": 23,
      "metadata": {},
      "outputs": [
        {
          "data": {
            "text/plain": [
              "tensor([[[[ 2.5295e-02,  1.8537e-02,  1.1849e-03, -5.1018e-02,  4.1500e-04],\n",
              "          [ 2.3580e-02,  2.2555e-03,  1.4027e-02,  1.4610e-02,  1.6759e-02],\n",
              "          [-3.2709e-02, -2.4234e-02,  2.1113e-02, -9.4233e-03, -3.0967e-02],\n",
              "          [-1.3462e-02,  1.3543e-02, -1.9096e-02, -1.2949e-04, -1.4310e-02],\n",
              "          [ 1.3757e-02, -1.9788e-02,  3.2602e-02,  4.2691e-04,  6.7591e-03]]],\n",
              "\n",
              "\n",
              "        [[[-2.6508e-02, -2.2323e-02, -1.3083e-03,  1.3417e-02, -7.8643e-03],\n",
              "          [ 1.0785e-02, -1.5043e-02, -2.7794e-02, -6.4861e-03, -4.3250e-02],\n",
              "          [ 1.6622e-02,  3.3575e-02, -3.2311e-02,  5.9213e-03,  2.5585e-02],\n",
              "          [ 1.9300e-02,  1.8039e-02,  1.2932e-02, -2.2850e-03, -4.2998e-02],\n",
              "          [ 7.0336e-03, -2.8465e-02,  2.0368e-02,  3.4303e-02, -1.9628e-02]]],\n",
              "\n",
              "\n",
              "        [[[-2.8831e-03, -4.1277e-02, -3.8946e-02, -7.9885e-03, -4.9228e-02],\n",
              "          [-6.0674e-02, -9.1310e-03, -1.4517e-02,  5.7487e-04, -1.2545e-02],\n",
              "          [ 1.7343e-02, -2.4426e-02, -7.4782e-03, -8.2859e-03,  1.3785e-03],\n",
              "          [ 2.3966e-03,  2.0886e-02, -1.1690e-02,  9.9487e-03, -2.6959e-02],\n",
              "          [-1.5801e-02, -5.6945e-02,  1.2461e-03, -2.9968e-02,  1.7949e-02]]],\n",
              "\n",
              "\n",
              "        [[[ 3.5378e-02,  3.8272e-03,  1.7039e-02,  2.6872e-02, -3.5865e-02],\n",
              "          [-4.9959e-03,  2.5904e-02, -4.8647e-04,  1.7530e-02, -3.0135e-02],\n",
              "          [ 1.3596e-03, -4.5538e-03,  3.5198e-02,  1.9198e-03, -1.1879e-02],\n",
              "          [ 2.0432e-02, -1.8231e-02,  4.7221e-02,  5.4416e-03, -9.5092e-03],\n",
              "          [-1.4502e-02, -3.3054e-02,  1.8874e-02,  1.0024e-02,  1.2829e-03]]],\n",
              "\n",
              "\n",
              "        [[[-1.4525e-02,  2.1990e-02, -2.0912e-02,  1.5525e-02,  4.5992e-03],\n",
              "          [-2.6908e-03, -3.2646e-02, -1.4612e-02,  1.5209e-02,  3.4013e-02],\n",
              "          [-3.9077e-02,  2.0841e-02,  5.9381e-03, -1.0801e-02,  8.2317e-06],\n",
              "          [ 1.5601e-02,  3.4314e-03, -2.7335e-02, -8.8419e-03, -5.5039e-03],\n",
              "          [-5.1850e-03,  4.7542e-03, -1.1908e-02, -1.5784e-02, -1.4605e-02]]],\n",
              "\n",
              "\n",
              "        [[[ 1.9385e-02,  2.8582e-02,  3.3794e-03, -1.3864e-02,  8.6654e-03],\n",
              "          [ 2.7528e-02, -3.3905e-02,  1.5722e-02,  5.0917e-02, -2.5522e-03],\n",
              "          [ 1.5340e-02, -6.8551e-03,  1.2571e-02,  1.0380e-02, -1.7304e-02],\n",
              "          [ 1.4392e-02, -1.4482e-02,  2.0494e-02,  1.1845e-02,  2.9962e-02],\n",
              "          [-6.5868e-02,  1.1167e-02, -3.3884e-02,  2.6566e-02, -1.8756e-02]]]])"
            ]
          },
          "execution_count": 24,
          "metadata": {},
          "output_type": "execute_result"
        }
      ],
      "source": [
        "net2.conv1.weight.grad"
      ]
    },
    {
      "cell_type": "markdown",
      "metadata": {},
      "source": [
        "## Ca converge ?\n",
        "\n",
        "Il ne reste plus qu'\u00e0 voir si cela converge. On cr\u00e9e une cible un peu alambiqu\u00e9e."
      ]
    },
    {
      "cell_type": "code",
      "execution_count": 24,
      "metadata": {},
      "outputs": [],
      "source": [
        "N = 10000\n",
        "inputs = torch.randn(N, 1, 1, 32, 32)\n",
        "targets = torch.zeros(N, 2)\n",
        "for i in range(N):\n",
        "    s1 = inputs[i, :, :, :16, :].sum() / 10\n",
        "    s2 = inputs[i, :, :, 16:, :].sum() / 10\n",
        "    targets[i, 0] = s1\n",
        "    targets[i, 1] = s2"
      ]
    },
    {
      "cell_type": "code",
      "execution_count": 25,
      "metadata": {},
      "outputs": [
        {
          "data": {
            "text/plain": [
              "tensor([[ 0.2842,  2.9707],\n",
              "        [-0.0656, -1.1306],\n",
              "        [-1.2251,  0.5147],\n",
              "        [-3.2201, -2.8353],\n",
              "        [ 0.5839, -2.4045]])"
            ]
          },
          "execution_count": 26,
          "metadata": {},
          "output_type": "execute_result"
        }
      ],
      "source": [
        "targets[:5]"
      ]
    },
    {
      "cell_type": "code",
      "execution_count": 26,
      "metadata": {},
      "outputs": [
        {
          "data": {
            "text/plain": [
              "tensor([124.1784,  84.6628])"
            ]
          },
          "execution_count": 27,
          "metadata": {},
          "output_type": "execute_result"
        }
      ],
      "source": [
        "torch.sum(targets, 0)"
      ]
    },
    {
      "cell_type": "markdown",
      "metadata": {},
      "source": [
        "On choisit l'algorithme d'optimisation et la fonction de co\u00fbt. Rien d'original dans tout \u00e7a."
      ]
    },
    {
      "cell_type": "code",
      "execution_count": 27,
      "metadata": {},
      "outputs": [],
      "source": [
        "max_iter = 50"
      ]
    },
    {
      "cell_type": "code",
      "execution_count": 28,
      "metadata": {
        "scrolled": false
      },
      "outputs": [
        {
          "name": "stderr",
          "output_type": "stream",
          "text": [
            "100%|\u2588\u2588\u2588\u2588\u2588\u2588\u2588\u2588\u2588\u2588\u2588\u2588\u2588\u2588\u2588\u2588\u2588\u2588\u2588\u2588\u2588\u2588\u2588\u2588\u2588\u2588\u2588\u2588\u2588\u2588\u2588\u2588\u2588\u2588\u2588\u2588\u2588\u2588\u2588\u2588\u2588\u2588\u2588\u2588\u2588\u2588\u2588\u2588\u2588\u2588\u2588\u2588\u2588\u2588\u2588\u2588\u2588\u2588\u2588\u2588\u2588\u2588\u2588\u2588\u2588\u2588\u2588\u2588\u2588\u2588\u2588\u2588\u2588\u2588\u2588\u2588\u2588\u2588\u2588\u2588\u2588\u2588| 50/50 [00:57<00:00,  1.17s/it]\n"
          ]
        }
      ],
      "source": [
        "from tqdm import tqdm\n",
        "import random\n",
        "\n",
        "model = net2\n",
        "optimizer = torch.optim.SGD(model.parameters(), lr=0.0002)\n",
        "loss_func = torch.nn.MSELoss()\n",
        "\n",
        "average_loss = []\n",
        "\n",
        "for i in tqdm(range(max_iter)):\n",
        "    \n",
        "    ave_loss = 0\n",
        "    nb = 0\n",
        "    \n",
        "    optimizer.zero_grad()\n",
        "    for it in range(inputs.shape[0] // 10):\n",
        "        h = random.randint(0, inputs.shape[0] - 1)\n",
        "        x = inputs[h, :, :, :, :]\n",
        "        y = targets[h, :]\n",
        "        \n",
        "        preds = model(x)\n",
        "        loss = loss_func(preds, y)\n",
        "\n",
        "        loss.backward()\n",
        "        \n",
        "        ave_loss += loss\n",
        "        nb += 1\n",
        "        \n",
        "    optimizer.step()\n",
        "    ave_loss /= nb\n",
        "    average_loss.append((i, ave_loss))"
      ]
    },
    {
      "cell_type": "code",
      "execution_count": 29,
      "metadata": {},
      "outputs": [
        {
          "data": {
            "image/png": "[encoded data removed]",
            "text/plain": [
              "<Figure size 432x288 with 1 Axes>"
            ]
          },
          "metadata": {
            "needs_background": "light"
          },
          "output_type": "display_data"
        }
      ],
      "source": [
        "import matplotlib.pyplot as plt\n",
        "plt.plot([_[0] for _ in average_loss],\n",
        "         [_[1] for _ in average_loss])\n",
        "plt.title(\"Evolution de l'erreur\");"
      ]
    },
    {
      "cell_type": "markdown",
      "metadata": {},
      "source": [
        "## On r\u00e9essaye avec un r\u00e9seau plus simple"
      ]
    },
    {
      "cell_type": "code",
      "execution_count": 30,
      "metadata": {},
      "outputs": [
        {
          "data": {
            "text/plain": [
              "tensor([[0.]], grad_fn=<MyReLUF>)"
            ]
          },
          "execution_count": 31,
          "metadata": {},
          "output_type": "execute_result"
        }
      ],
      "source": [
        "class Net11(nn.Module):\n",
        "\n",
        "    def __init__(self):\n",
        "        super(Net11, self).__init__()\n",
        "        self.lay1 = nn.Linear(1, 10)\n",
        "        self.fct1 = MyReLUNN()\n",
        "        self.lay2 = nn.Linear(10, 1)\n",
        "        self.fct2 = MyReLUNN()\n",
        "\n",
        "    def forward(self, x):\n",
        "        x = self.fct1(self.lay1(x))\n",
        "        x = self.fct2(self.lay2(x))\n",
        "        return x\n",
        "\n",
        "    \n",
        "net11 = Net11()\n",
        "input = torch.randn(1, 1)\n",
        "output = net11(input)\n",
        "output"
      ]
    },
    {
      "cell_type": "code",
      "execution_count": 31,
      "metadata": {},
      "outputs": [],
      "source": [
        "N = 500\n",
        "inputs = torch.randn(N, 1)\n",
        "rnd = torch.randn(N, 1)\n",
        "targets = torch.zeros(N, 1)\n",
        "for i in range(N):\n",
        "    y = abs(inputs[i, 0]) + rnd[i, 0] / 5\n",
        "    targets[i, 0] = y"
      ]
    },
    {
      "cell_type": "code",
      "execution_count": 32,
      "metadata": {},
      "outputs": [
        {
          "data": {
            "image/png": "[encoded data removed]",
            "text/plain": [
              "<Figure size 432x288 with 1 Axes>"
            ]
          },
          "metadata": {
            "needs_background": "light"
          },
          "output_type": "display_data"
        }
      ],
      "source": [
        "plt.plot(list(inputs[:, 0]), list(targets[:, 0]), '.')\n",
        "plt.title(\"Simple r\u00e9gression non lin\u00e9aire\");"
      ]
    },
    {
      "cell_type": "code",
      "execution_count": 33,
      "metadata": {},
      "outputs": [],
      "source": [
        "max_iter = 50"
      ]
    },
    {
      "cell_type": "code",
      "execution_count": 34,
      "metadata": {},
      "outputs": [
        {
          "name": "stderr",
          "output_type": "stream",
          "text": [
            "100%|\u2588\u2588\u2588\u2588\u2588\u2588\u2588\u2588\u2588\u2588\u2588\u2588\u2588\u2588\u2588\u2588\u2588\u2588\u2588\u2588\u2588\u2588\u2588\u2588\u2588\u2588\u2588\u2588\u2588\u2588\u2588\u2588\u2588\u2588\u2588\u2588\u2588\u2588\u2588\u2588\u2588\u2588\u2588\u2588\u2588\u2588\u2588\u2588\u2588\u2588\u2588\u2588\u2588\u2588\u2588\u2588\u2588\u2588\u2588\u2588\u2588\u2588\u2588\u2588\u2588\u2588\u2588\u2588\u2588\u2588\u2588\u2588\u2588\u2588\u2588\u2588\u2588\u2588\u2588\u2588\u2588\u2588| 50/50 [00:01<00:00, 35.03it/s]\n"
          ]
        }
      ],
      "source": [
        "model = net11\n",
        "optimizer = torch.optim.SGD(model.parameters(), lr=0.02)\n",
        "loss_func = torch.nn.MSELoss()\n",
        "\n",
        "average_loss = []\n",
        "\n",
        "for i in tqdm(range(max_iter)):\n",
        "    \n",
        "    ave_loss = 0\n",
        "    nb = 0\n",
        "    \n",
        "    for it in range(inputs.shape[0] // 10):\n",
        "        h = random.randint(0, inputs.shape[0] - 1)\n",
        "        x = inputs[h, :]\n",
        "        y = targets[h, :]\n",
        "        \n",
        "        preds = model(x)\n",
        "\n",
        "        loss = loss_func(preds, y)\n",
        "        \n",
        "        optimizer.zero_grad()\n",
        "        loss.backward()\n",
        "        optimizer.step()\n",
        "        \n",
        "        ave_loss += loss\n",
        "        nb += 1\n",
        "        \n",
        "    ave_loss /= nb\n",
        "    average_loss.append((i, ave_loss))"
      ]
    },
    {
      "cell_type": "code",
      "execution_count": 35,
      "metadata": {},
      "outputs": [
        {
          "data": {
            "image/png": "[encoded data removed]",
            "text/plain": [
              "<Figure size 432x288 with 1 Axes>"
            ]
          },
          "metadata": {
            "needs_background": "light"
          },
          "output_type": "display_data"
        }
      ],
      "source": [
        "import matplotlib.pyplot as plt\n",
        "plt.plot([_[0] for _ in average_loss],\n",
        "         [_[1] for _ in average_loss])\n",
        "plt.title(\"Evolution de l'erreur pour une r\u00e9gression\");"
      ]
    },
    {
      "cell_type": "code",
      "execution_count": 36,
      "metadata": {},
      "outputs": [],
      "source": [
        "predictions = model(inputs)"
      ]
    },
    {
      "cell_type": "code",
      "execution_count": 37,
      "metadata": {},
      "outputs": [
        {
          "data": {
            "image/png": "[encoded data removed]",
            "text/plain": [
              "<Figure size 864x288 with 2 Axes>"
            ]
          },
          "metadata": {
            "needs_background": "light"
          },
          "output_type": "display_data"
        }
      ],
      "source": [
        "fig, ax = plt.subplots(1, 2, figsize=(12, 4))\n",
        "ax[0].plot(list(inputs[:, 0]), list(targets[:, 0]), '.', label=\"output\")\n",
        "ax[0].plot(list(inputs[:, 0]), list(predictions[:, 0]), '.', label=\"pr\u00e9dictions\")\n",
        "ax[0].legend()\n",
        "ax[0].set_title(\"Simple r\u00e9gression non lin\u00e9aire\")\n",
        "ax[1].plot(list(targets[:, 0]), list(predictions[:, 0]), '.', label=\"Y/expected\")\n",
        "ax[1].set_xlabel(\"valeur attendue\")\n",
        "ax[1].set_ylabel(\"pr\u00e9dictions\")\n",
        "ax[1].plot([-0.2, 3], [-0.2, 3], '--', label=\"prefect\")\n",
        "ax[1].legend();"
      ]
    },
    {
      "cell_type": "markdown",
      "metadata": {},
      "source": [
        "Pas trop mal mais j'ai la flemme d'aller corriger ma premi\u00e8re exp\u00e9rience qui n'avait aucun sens de toute fa\u00e7on."
      ]
    },
    {
      "cell_type": "code",
      "execution_count": 38,
      "metadata": {},
      "outputs": [],
      "source": []
    },
    {
      "cell_type": "code",
      "execution_count": 39,
      "metadata": {},
      "outputs": [],
      "source": []
    }
  ],
  "metadata": {
    "kernelspec": {
      "display_name": "Python 3",
      "language": "python",
      "name": "python3"
    },
    "language_info": {
      "codemirror_mode": {
        "name": "ipython",
        "version": 3
      },
      "file_extension": ".py",
      "mimetype": "text/x-python",
      "name": "python",
      "nbconvert_exporter": "python",
      "pygments_lexer": "ipython3",
      "version": "3.7.2"
    }
  },
  "nbformat": 4,
  "nbformat_minor": 2
}